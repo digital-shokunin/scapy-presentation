{
 "cells": [
  {
   "cell_type": "markdown",
   "metadata": {},
   "source": [
    "# Scapy Basics"
   ]
  },
  {
   "cell_type": "code",
   "execution_count": 1,
   "metadata": {},
   "outputs": [
    {
     "name": "stdout",
     "output_type": "stream",
     "text": [
      "AH         : AH\n",
      "ARP        : ARP\n",
      "ASN1P_INTEGER : None\n",
      "ASN1P_OID  : None\n",
      "ASN1P_PRIVSEQ : None\n",
      "ASN1_Packet : None\n",
      "ATT_Error_Response : Error Response\n",
      "ATT_Exchange_MTU_Request : Exchange MTU Request\n",
      "ATT_Exchange_MTU_Response : Exchange MTU Response\n",
      "ATT_Find_By_Type_Value_Request : Find By Type Value Request\n",
      "ATT_Find_By_Type_Value_Response : Find By Type Value Response\n",
      "ATT_Find_Information_Request : Find Information Request\n",
      "ATT_Find_Information_Response : Find Information Reponse\n",
      "ATT_Handle_Value_Notification : Handle Value Notification\n",
      "ATT_Hdr    : ATT header\n",
      "ATT_Read_By_Group_Type_Request : Read By Group Type Request\n",
      "ATT_Read_By_Group_Type_Response : Read By Group Type Response\n",
      "ATT_Read_By_Type_Request : Read By Type Request\n",
      "ATT_Read_By_Type_Request_128bit : Read By Type Request\n",
      "ATT_Read_By_Type_Response : Read By Type Response\n",
      "ATT_Read_Request : Read Request\n",
      "ATT_Read_Response : Read Response\n",
      "ATT_Write_Command : Write Request\n",
      "ATT_Write_Request : Write Request\n",
      "ATT_Write_Response : Write Response\n",
      "BOOTP      : BOOTP\n",
      "CookedLinux : cooked linux\n",
      "DHCP       : DHCP options\n",
      "DHCP6      : DHCPv6 Generic Message\n",
      "DHCP6OptAuth : DHCP6 Option - Authentication\n",
      "DHCP6OptBCMCSDomains : DHCP6 Option - BCMCS Domain Name List\n",
      "DHCP6OptBCMCSServers : DHCP6 Option - BCMCS Addresses List\n",
      "DHCP6OptClientFQDN : DHCP6 Option - Client FQDN\n",
      "DHCP6OptClientId : DHCP6 Client Identifier Option\n",
      "DHCP6OptClientLinkLayerAddr : DHCP6 Option - Client Link Layer address\n",
      "DHCP6OptDNSDomains : DHCP6 Option - Domain Search List option\n",
      "DHCP6OptDNSServers : DHCP6 Option - DNS Recursive Name Server\n",
      "DHCP6OptElapsedTime : DHCP6 Elapsed Time Option\n",
      "DHCP6OptGeoConf : \n",
      "DHCP6OptIAAddress : DHCP6 IA Address Option (IA_TA or IA_NA suboption)\n",
      "DHCP6OptIAPrefix : DHCP6 Option - IA_PD Prefix option\n",
      "DHCP6OptIA_NA : DHCP6 Identity Association for Non-temporary Addresses Option\n",
      "DHCP6OptIA_PD : DHCP6 Option - Identity Association for Prefix Delegation\n",
      "DHCP6OptIA_TA : DHCP6 Identity Association for Temporary Addresses Option\n",
      "DHCP6OptIfaceId : DHCP6 Interface-Id Option\n",
      "DHCP6OptInfoRefreshTime : DHCP6 Option - Information Refresh Time\n",
      "DHCP6OptNISDomain : DHCP6 Option - NIS Domain Name\n",
      "DHCP6OptNISPDomain : DHCP6 Option - NIS+ Domain Name\n",
      "DHCP6OptNISPServers : DHCP6 Option - NIS+ Servers\n",
      "DHCP6OptNISServers : DHCP6 Option - NIS Servers\n",
      "DHCP6OptOptReq : DHCP6 Option Request Option\n",
      "DHCP6OptPref : DHCP6 Preference Option\n",
      "DHCP6OptRapidCommit : DHCP6 Rapid Commit Option\n",
      "DHCP6OptReconfAccept : DHCP6 Reconfigure Accept Option\n",
      "DHCP6OptReconfMsg : DHCP6 Reconfigure Message Option\n",
      "DHCP6OptRelayAgentERO : DHCP6 Option - RelayRequest Option\n",
      "DHCP6OptRelayMsg : DHCP6 Relay Message Option\n",
      "DHCP6OptRemoteID : DHCP6 Option - Relay Agent Remote-ID\n",
      "DHCP6OptSIPDomains : DHCP6 Option - SIP Servers Domain Name List\n",
      "DHCP6OptSIPServers : DHCP6 Option - SIP Servers IPv6 Address List\n",
      "DHCP6OptSNTPServers : DHCP6 option - SNTP Servers\n",
      "DHCP6OptServerId : DHCP6 Server Identifier Option\n",
      "DHCP6OptServerUnicast : DHCP6 Server Unicast Option\n",
      "DHCP6OptStatusCode : DHCP6 Status Code Option\n",
      "DHCP6OptSubscriberID : DHCP6 Option - Subscriber ID\n",
      "DHCP6OptUnknown : Unknown DHCPv6 Option\n",
      "DHCP6OptUserClass : DHCP6 User Class Option\n",
      "DHCP6OptVSS : DHCP6 Option - Virtual Subnet Selection\n",
      "DHCP6OptVendorClass : DHCP6 Vendor Class Option\n",
      "DHCP6OptVendorSpecificInfo : DHCP6 Vendor-specific Information Option\n",
      "DHCP6_Advertise : DHCPv6 Advertise Message\n",
      "DHCP6_Confirm : DHCPv6 Confirm Message\n",
      "DHCP6_Decline : DHCPv6 Decline Message\n",
      "DHCP6_InfoRequest : DHCPv6 Information Request Message\n",
      "DHCP6_Rebind : DHCPv6 Rebind Message\n",
      "DHCP6_Reconf : DHCPv6 Reconfigure Message\n",
      "DHCP6_RelayForward : DHCPv6 Relay Forward Message (Relay Agent/Server Message)\n",
      "DHCP6_RelayReply : DHCPv6 Relay Reply Message (Relay Agent/Server Message)\n",
      "DHCP6_Release : DHCPv6 Release Message\n",
      "DHCP6_Renew : DHCPv6 Renew Message\n",
      "DHCP6_Reply : DHCPv6 Reply Message\n",
      "DHCP6_Request : DHCPv6 Request Message\n",
      "DHCP6_Solicit : DHCPv6 Solicit Message\n",
      "DNS        : DNS\n",
      "DNSQR      : DNS Question Record\n",
      "DNSRR      : DNS Resource Record\n",
      "DNSRRDLV   : DNS DLV Resource Record\n",
      "DNSRRDNSKEY : DNS DNSKEY Resource Record\n",
      "DNSRRDS    : DNS DS Resource Record\n",
      "DNSRRNSEC  : DNS NSEC Resource Record\n",
      "DNSRRNSEC3 : DNS NSEC3 Resource Record\n",
      "DNSRRNSEC3PARAM : DNS NSEC3PARAM Resource Record\n",
      "DNSRROPT   : DNS OPT Resource Record\n",
      "DNSRRRSIG  : DNS RRSIG Resource Record\n",
      "DNSRRSOA   : DNS SOA Resource Record\n",
      "DNSRRSRV   : DNS SRV Resource Record\n",
      "DNSRRTSIG  : DNS TSIG Resource Record\n",
      "DUID_EN    : DUID - Assigned by Vendor Based on Enterprise Number\n",
      "DUID_LL    : DUID - Based on Link-layer Address\n",
      "DUID_LLT   : DUID - Link-layer address plus time\n",
      "DUID_UUID  : DUID - Based on UUID\n",
      "Dot11      : 802.11\n",
      "Dot11ATIM  : 802.11 ATIM\n",
      "Dot11Ack   : 802.11 Ack packet\n",
      "Dot11AssoReq : 802.11 Association Request\n",
      "Dot11AssoResp : 802.11 Association Response\n",
      "Dot11Auth  : 802.11 Authentication\n",
      "Dot11Beacon : 802.11 Beacon\n",
      "Dot11Deauth : 802.11 Deauthentication\n",
      "Dot11Disas : 802.11 Disassociation\n",
      "Dot11Elt   : 802.11 Information Element\n",
      "Dot11ProbeReq : 802.11 Probe Request\n",
      "Dot11ProbeResp : 802.11 Probe Response\n",
      "Dot11QoS   : 802.11 QoS\n",
      "Dot11ReassoReq : 802.11 Reassociation Request\n",
      "Dot11ReassoResp : 802.11 Reassociation Response\n",
      "Dot11WEP   : 802.11 WEP packet\n",
      "Dot1AD     : 802_1AD\n",
      "Dot1Q      : 802.1Q\n",
      "Dot3       : 802.3\n",
      "EAP        : EAP\n",
      "EAPOL      : EAPOL\n",
      "EAP_FAST   : EAP-FAST\n",
      "EAP_MD5    : EAP-MD5\n",
      "EAP_PEAP   : PEAP\n",
      "EAP_TLS    : EAP-TLS\n",
      "EAP_TTLS   : EAP-TTLS\n",
      "ECCurve    : None\n",
      "ECDSAPrivateKey : None\n",
      "ECDSAPrivateKey_OpenSSL : ECDSA Params + Private Key\n",
      "ECDSAPublicKey : None\n",
      "ECDSASignature : None\n",
      "ECFieldID  : None\n",
      "ECParameters : None\n",
      "ECSpecifiedDomain : None\n",
      "EDNS0TLV   : DNS EDNS0 TLV\n",
      "EIR_CompleteList16BitServiceUUIDs : Complete list of 16-bit service UUIDs\n",
      "EIR_CompleteLocalName : Complete Local Name\n",
      "EIR_Element : EIR Element\n",
      "EIR_Flags  : Flags\n",
      "EIR_Hdr    : EIR Header\n",
      "EIR_IncompleteList16BitServiceUUIDs : Incomplete list of 16-bit service UUIDs\n",
      "EIR_Manufacturer_Specific_Data : EIR Manufacturer Specific Data\n",
      "EIR_Raw    : EIR Raw\n",
      "EIR_ShortenedLocalName : Shortened Local Name\n",
      "EIR_TX_Power_Level : TX Power Level\n",
      "ESP        : ESP\n",
      "Ether      : Ethernet\n",
      "GPRS       : GPRSdummy\n",
      "GRE        : GRE\n",
      "GRE_PPTP   : GRE PPTP\n",
      "GRErouting : GRE routing informations\n",
      "HAO        : Home Address Option\n",
      "HBHOptUnknown : Scapy6 Unknown Option\n",
      "HCI_ACL_Hdr : HCI ACL header\n",
      "HCI_Cmd_Complete_Read_BD_Addr : Read BD Addr\n",
      "HCI_Cmd_Connect_Accept_Timeout : Connection Attempt Timeout\n",
      "HCI_Cmd_Disconnect : Disconnect\n",
      "HCI_Cmd_LE_Connection_Update : LE Connection Update\n",
      "HCI_Cmd_LE_Create_Connection : LE Create Connection\n",
      "HCI_Cmd_LE_Create_Connection_Cancel : LE Create Connection Cancel\n",
      "HCI_Cmd_LE_Host_Supported : LE Host Supported\n",
      "HCI_Cmd_LE_Long_Term_Key_Request_Negative_Reply : LE Long Term Key Request Negative Reply\n",
      "HCI_Cmd_LE_Long_Term_Key_Request_Reply : LE Long Term Key Request Reply\n",
      "HCI_Cmd_LE_Read_Buffer_Size : LE Read Buffer Size\n",
      "HCI_Cmd_LE_Set_Advertise_Enable : LE Set Advertise Enable\n",
      "HCI_Cmd_LE_Set_Advertising_Data : LE Set Advertising Data\n",
      "HCI_Cmd_LE_Set_Advertising_Parameters : LE Set Advertising Parameters\n",
      "HCI_Cmd_LE_Set_Random_Address : LE Set Random Address\n",
      "HCI_Cmd_LE_Set_Scan_Enable : LE Set Scan Enable\n",
      "HCI_Cmd_LE_Set_Scan_Parameters : LE Set Scan Parameters\n",
      "HCI_Cmd_LE_Start_Encryption_Request : LE Start Encryption\n",
      "HCI_Cmd_Read_BD_Addr : Read BD Addr\n",
      "HCI_Cmd_Reset : Reset\n",
      "HCI_Cmd_Set_Event_Filter : Set Event Filter\n",
      "HCI_Cmd_Set_Event_Mask : Set Event Mask\n",
      "HCI_Command_Hdr : HCI Command header\n",
      "HCI_Event_Command_Complete : Command Complete\n",
      "HCI_Event_Command_Status : Command Status\n",
      "HCI_Event_Disconnection_Complete : Disconnection Complete\n",
      "HCI_Event_Encryption_Change : Encryption Change\n",
      "HCI_Event_Hdr : HCI Event header\n",
      "HCI_Event_LE_Meta : LE Meta\n",
      "HCI_Event_Number_Of_Completed_Packets : Number Of Completed Packets\n",
      "HCI_Hdr    : HCI header\n",
      "HCI_LE_Meta_Advertising_Report : Advertising Report\n",
      "HCI_LE_Meta_Connection_Complete : Connection Complete\n",
      "HCI_LE_Meta_Connection_Update_Complete : Connection Update Complete\n",
      "HCI_LE_Meta_Long_Term_Key_Request : Long Term Key Request\n",
      "HDLC       : None\n",
      "HSRP       : HSRP\n",
      "HSRPmd5    : HSRP MD5 Authentication\n",
      "ICMP       : ICMP\n",
      "ICMPerror  : ICMP in ICMP\n",
      "ICMPv6DestUnreach : ICMPv6 Destination Unreachable\n",
      "ICMPv6EchoReply : ICMPv6 Echo Reply\n",
      "ICMPv6EchoRequest : ICMPv6 Echo Request\n",
      "ICMPv6HAADReply : ICMPv6 Home Agent Address Discovery Reply\n",
      "ICMPv6HAADRequest : ICMPv6 Home Agent Address Discovery Request\n",
      "ICMPv6MLDMultAddrRec : ICMPv6 MLDv2 - Multicast Address Record\n",
      "ICMPv6MLDone : MLD - Multicast Listener Done\n",
      "ICMPv6MLQuery : MLD - Multicast Listener Query\n",
      "ICMPv6MLQuery2 : MLDv2 - Multicast Listener Query\n",
      "ICMPv6MLReport : MLD - Multicast Listener Report\n",
      "ICMPv6MLReport2 : MLDv2 - Multicast Listener Report\n",
      "ICMPv6MPAdv : ICMPv6 Mobile Prefix Advertisement\n",
      "ICMPv6MPSol : ICMPv6 Mobile Prefix Solicitation\n",
      "ICMPv6MRD_Advertisement : ICMPv6 Multicast Router Discovery Advertisement\n",
      "ICMPv6MRD_Solicitation : ICMPv6 Multicast Router Discovery Solicitation\n",
      "ICMPv6MRD_Termination : ICMPv6 Multicast Router Discovery Termination\n",
      "ICMPv6NDOptAdvInterval : ICMPv6 Neighbor Discovery - Interval Advertisement\n",
      "ICMPv6NDOptDNSSL : ICMPv6 Neighbor Discovery Option - DNS Search List Option\n",
      "ICMPv6NDOptDstLLAddr : ICMPv6 Neighbor Discovery Option - Destination Link-Layer Address\n",
      "ICMPv6NDOptEFA : ICMPv6 Neighbor Discovery Option - Expanded Flags Option\n",
      "ICMPv6NDOptHAInfo : ICMPv6 Neighbor Discovery - Home Agent Information\n",
      "ICMPv6NDOptIPAddr : ICMPv6 Neighbor Discovery - IP Address Option (FH for MIPv6)\n",
      "ICMPv6NDOptLLA : ICMPv6 Neighbor Discovery - Link-Layer Address (LLA) Option (FH for MIPv6)\n",
      "ICMPv6NDOptMAP : ICMPv6 Neighbor Discovery - MAP Option\n",
      "ICMPv6NDOptMTU : ICMPv6 Neighbor Discovery Option - MTU\n",
      "ICMPv6NDOptNewRtrPrefix : ICMPv6 Neighbor Discovery - New Router Prefix Information Option (FH for MIPv6)\n",
      "ICMPv6NDOptPrefixInfo : ICMPv6 Neighbor Discovery Option - Prefix Information\n",
      "ICMPv6NDOptRDNSS : ICMPv6 Neighbor Discovery Option - Recursive DNS Server Option\n",
      "ICMPv6NDOptRedirectedHdr : ICMPv6 Neighbor Discovery Option - Redirected Header\n",
      "ICMPv6NDOptRouteInfo : ICMPv6 Neighbor Discovery Option - Route Information Option\n",
      "ICMPv6NDOptShortcutLimit : ICMPv6 Neighbor Discovery Option - NBMA Shortcut Limit\n",
      "ICMPv6NDOptSrcAddrList : ICMPv6 Inverse Neighbor Discovery Option - Source Address List\n",
      "ICMPv6NDOptSrcLLAddr : ICMPv6 Neighbor Discovery Option - Source Link-Layer Address\n",
      "ICMPv6NDOptTgtAddrList : ICMPv6 Inverse Neighbor Discovery Option - Target Address List\n",
      "ICMPv6NDOptUnknown : ICMPv6 Neighbor Discovery Option - Scapy Unimplemented\n",
      "ICMPv6ND_INDAdv : ICMPv6 Inverse Neighbor Discovery Advertisement\n",
      "ICMPv6ND_INDSol : ICMPv6 Inverse Neighbor Discovery Solicitation\n",
      "ICMPv6ND_NA : ICMPv6 Neighbor Discovery - Neighbor Advertisement\n",
      "ICMPv6ND_NS : ICMPv6 Neighbor Discovery - Neighbor Solicitation\n",
      "ICMPv6ND_RA : ICMPv6 Neighbor Discovery - Router Advertisement\n",
      "ICMPv6ND_RS : ICMPv6 Neighbor Discovery - Router Solicitation\n",
      "ICMPv6ND_Redirect : ICMPv6 Neighbor Discovery - Redirect\n",
      "ICMPv6NIQueryIPv4 : ICMPv6 Node Information Query - IPv4 Address Query\n",
      "ICMPv6NIQueryIPv6 : ICMPv6 Node Information Query - IPv6 Address Query\n",
      "ICMPv6NIQueryNOOP : ICMPv6 Node Information Query - NOOP Query\n",
      "ICMPv6NIQueryName : ICMPv6 Node Information Query - IPv6 Name Query\n",
      "ICMPv6NIReplyIPv4 : ICMPv6 Node Information Reply - IPv4 addresses\n",
      "ICMPv6NIReplyIPv6 : ICMPv6 Node Information Reply - IPv6 addresses\n",
      "ICMPv6NIReplyNOOP : ICMPv6 Node Information Reply - NOOP Reply\n",
      "ICMPv6NIReplyName : ICMPv6 Node Information Reply - Node Names\n",
      "ICMPv6NIReplyRefuse : ICMPv6 Node Information Reply - Responder refuses to supply answer\n",
      "ICMPv6NIReplyUnknown : ICMPv6 Node Information Reply - Qtype unknown to the responder\n",
      "ICMPv6PacketTooBig : ICMPv6 Packet Too Big\n",
      "ICMPv6ParamProblem : ICMPv6 Parameter Problem\n",
      "ICMPv6TimeExceeded : ICMPv6 Time Exceeded\n",
      "ICMPv6Unknown : Scapy6 ICMPv6 fallback class\n",
      "IP         : IP\n",
      "IPOption   : IP Option\n",
      "IPOption_Address_Extension : IP Option Address Extension\n",
      "IPOption_EOL : IP Option End of Options List\n",
      "IPOption_LSRR : IP Option Loose Source and Record Route\n",
      "IPOption_MTU_Probe : IP Option MTU Probe\n",
      "IPOption_MTU_Reply : IP Option MTU Reply\n",
      "IPOption_NOP : IP Option No Operation\n",
      "IPOption_RR : IP Option Record Route\n",
      "IPOption_Router_Alert : IP Option Router Alert\n",
      "IPOption_SDBM : IP Option Selective Directed Broadcast Mode\n",
      "IPOption_SSRR : IP Option Strict Source and Record Route\n",
      "IPOption_Security : IP Option Security\n",
      "IPOption_Stream_Id : IP Option Stream ID\n",
      "IPOption_Traceroute : IP Option Traceroute\n",
      "IPerror    : IP in ICMP\n",
      "IPerror6   : IPv6 in ICMPv6\n",
      "IPv6       : IPv6\n",
      "IPv6ExtHdrDestOpt : IPv6 Extension Header - Destination Options Header\n",
      "IPv6ExtHdrFragment : IPv6 Extension Header - Fragmentation header\n",
      "IPv6ExtHdrHopByHop : IPv6 Extension Header - Hop-by-Hop Options Header\n",
      "IPv6ExtHdrRouting : IPv6 Option Header Routing\n",
      "IPv6ExtHdrSegmentRouting : IPv6 Option Header Segment Routing\n",
      "IPv6ExtHdrSegmentRoutingTLV : IPv6 Option Header Segment Routing - Generic TLV\n",
      "IPv6ExtHdrSegmentRoutingTLVEgressNode : IPv6 Option Header Segment Routing - Egress Node TLV\n",
      "IPv6ExtHdrSegmentRoutingTLVIngressNode : IPv6 Option Header Segment Routing - Ingress Node TLV\n",
      "IPv6ExtHdrSegmentRoutingTLVPadding : IPv6 Option Header Segment Routing - Padding TLV\n",
      "ISAKMP     : ISAKMP\n",
      "ISAKMP_class : None\n",
      "ISAKMP_payload : ISAKMP payload\n",
      "ISAKMP_payload_Hash : ISAKMP Hash\n",
      "ISAKMP_payload_ID : ISAKMP Identification\n",
      "ISAKMP_payload_KE : ISAKMP Key Exchange\n",
      "ISAKMP_payload_Nonce : ISAKMP Nonce\n",
      "ISAKMP_payload_Proposal : IKE proposal\n",
      "ISAKMP_payload_SA : ISAKMP SA\n",
      "ISAKMP_payload_Transform : IKE Transform\n",
      "ISAKMP_payload_VendorID : ISAKMP Vendor ID\n",
      "InheritOriginDNSStrPacket : None\n",
      "IrLAPCommand : IrDA Link Access Protocol Command\n",
      "IrLAPHead  : IrDA Link Access Protocol Header\n",
      "IrLMP      : IrDA Link Management Protocol\n",
      "Jumbo      : Jumbo Payload\n",
      "L2CAP_CmdHdr : L2CAP command header\n",
      "L2CAP_CmdRej : L2CAP Command Rej\n",
      "L2CAP_ConfReq : L2CAP Conf Req\n",
      "L2CAP_ConfResp : L2CAP Conf Resp\n",
      "L2CAP_ConnReq : L2CAP Conn Req\n",
      "L2CAP_ConnResp : L2CAP Conn Resp\n",
      "L2CAP_Connection_Parameter_Update_Request : L2CAP Connection Parameter Update Request\n",
      "L2CAP_Connection_Parameter_Update_Response : L2CAP Connection Parameter Update Response\n",
      "L2CAP_DisconnReq : L2CAP Disconn Req\n",
      "L2CAP_DisconnResp : L2CAP Disconn Resp\n",
      "L2CAP_Hdr  : L2CAP header\n",
      "L2CAP_InfoReq : L2CAP Info Req\n",
      "L2CAP_InfoResp : L2CAP Info Resp\n",
      "L2TP       : L2TP\n",
      "LEAP       : Cisco LEAP\n",
      "LLC        : LLC\n",
      "LLMNRQuery : Link Local Multicast Node Resolution - Query\n",
      "LLMNRResponse : Link Local Multicast Node Resolution - Response\n",
      "LLTD       : LLTD\n",
      "LLTDAttribute : LLTD Attribute\n",
      "LLTDAttribute80211MaxRate : LLTD Attribute - 802.11 Max Rate\n",
      "LLTDAttribute80211PhysicalMedium : LLTD Attribute - 802.11 Physical Medium\n",
      "LLTDAttributeCharacteristics : LLTD Attribute - Characteristics\n",
      "LLTDAttributeDeviceUUID : LLTD Attribute - Device UUID\n",
      "LLTDAttributeEOP : LLTD Attribute - End Of Property\n",
      "LLTDAttributeHostID : LLTD Attribute - Host ID\n",
      "LLTDAttributeIPv4Address : LLTD Attribute - IPv4 Address\n",
      "LLTDAttributeIPv6Address : LLTD Attribute - IPv6 Address\n",
      "LLTDAttributeLargeTLV : LLTD Attribute - Large TLV\n",
      "LLTDAttributeLinkSpeed : LLTD Attribute - Link Speed\n",
      "LLTDAttributeMachineName : LLTD Attribute - Machine Name\n",
      "LLTDAttributePerformanceCounterFrequency : LLTD Attribute - Performance Counter Frequency\n",
      "LLTDAttributePhysicalMedium : LLTD Attribute - Physical Medium\n",
      "LLTDAttributeQOSCharacteristics : LLTD Attribute - QoS Characteristics\n",
      "LLTDAttributeSeesList : LLTD Attribute - Sees List Working Set\n",
      "LLTDDiscover : LLTD - Discover\n",
      "LLTDEmit   : LLTD - Emit\n",
      "LLTDEmiteeDesc : LLTD - Emitee Desc\n",
      "LLTDHello  : LLTD - Hello\n",
      "LLTDQueryLargeTlv : LLTD - Query Large Tlv\n",
      "LLTDQueryLargeTlvResp : LLTD - Query Large Tlv Response\n",
      "LLTDQueryResp : LLTD - Query Response\n",
      "LLTDRecveeDesc : LLTD - Recvee Desc\n",
      "Loopback   : Loopback\n",
      "MACsecSCI  : SCI\n",
      "MGCP       : MGCP\n",
      "MIP6MH_BA  : IPv6 Mobility Header - Binding ACK\n",
      "MIP6MH_BE  : IPv6 Mobility Header - Binding Error\n",
      "MIP6MH_BRR : IPv6 Mobility Header - Binding Refresh Request\n",
      "MIP6MH_BU  : IPv6 Mobility Header - Binding Update\n",
      "MIP6MH_CoT : IPv6 Mobility Header - Care-of Test\n",
      "MIP6MH_CoTI : IPv6 Mobility Header - Care-of Test Init\n",
      "MIP6MH_Generic : IPv6 Mobility Header - Generic Message\n",
      "MIP6MH_HoT : IPv6 Mobility Header - Home Test\n",
      "MIP6MH_HoTI : IPv6 Mobility Header - Home Test Init\n",
      "MIP6OptAltCoA : MIPv6 Option - Alternate Care-of Address\n",
      "MIP6OptBRAdvice : Mobile IPv6 Option - Binding Refresh Advice\n",
      "MIP6OptBindingAuthData : MIPv6 Option - Binding Authorization Data\n",
      "MIP6OptCGAParams : MIPv6 option - CGA Parameters\n",
      "MIP6OptCGAParamsReq : MIPv6 option - CGA Parameters Request\n",
      "MIP6OptCareOfTest : MIPv6 option - Care-of Test\n",
      "MIP6OptCareOfTestInit : MIPv6 option - Care-of Test Init\n",
      "MIP6OptHomeKeygenToken : MIPv6 option - Home Keygen Token\n",
      "MIP6OptLLAddr : MIPv6 Option - Link-Layer Address (MH-LLA)\n",
      "MIP6OptMNID : MIPv6 Option - Mobile Node Identifier\n",
      "MIP6OptMobNetPrefix : NEMO Option - Mobile Network Prefix\n",
      "MIP6OptMsgAuth : MIPv6 Option - Mobility Message Authentication\n",
      "MIP6OptNonceIndices : MIPv6 Option - Nonce Indices\n",
      "MIP6OptReplayProtection : MIPv6 option - Replay Protection\n",
      "MIP6OptSignature : MIPv6 option - Signature\n",
      "MIP6OptUnknown : Scapy6 - Unknown Mobility Option\n",
      "MKABasicParamSet : Basic Parameter Set\n",
      "MKADistributedCAKParamSet : Distributed CAK parameter set\n",
      "MKADistributedSAKParamSet : Distributed SAK parameter set\n",
      "MKAICVSet  : ICV\n",
      "MKALivePeerListParamSet : Live Peer List Parameter Set\n",
      "MKAPDU     : MKPDU\n",
      "MKAParamSet : None\n",
      "MKAPeerListTuple : Peer List Tuple\n",
      "MKAPotentialPeerListParamSet : Potential Peer List Parameter Set\n",
      "MKASAKUseParamSet : SAK Use Parameter Set\n",
      "MobileIP   : Mobile IP (RFC3344)\n",
      "MobileIPRRP : Mobile IP Registration Reply (RFC3344)\n",
      "MobileIPRRQ : Mobile IP Registration Request (RFC3344)\n",
      "MobileIPTunnelData : Mobile IP Tunnel Data Message (RFC3519)\n",
      "NBNSNodeStatusResponse : NBNS Node Status Response\n",
      "NBNSNodeStatusResponseEnd : NBNS Node Status Response\n",
      "NBNSNodeStatusResponseService : NBNS Node Status Response Service\n",
      "NBNSQueryRequest : NBNS query request\n",
      "NBNSQueryResponse : NBNS query response\n",
      "NBNSQueryResponseNegative : NBNS query response (negative)\n",
      "NBNSRequest : NBNS request\n",
      "NBNSWackResponse : NBNS Wait for Acknowledgement Response\n",
      "NBTDatagram : NBT Datagram Packet\n",
      "NBTSession : NBT Session Packet\n",
      "NTP        : None\n",
      "NTPAuthenticator : Authenticator\n",
      "NTPClockStatusPacket : clock status\n",
      "NTPConfPeer : conf_peer\n",
      "NTPConfRestrict : conf_restrict\n",
      "NTPConfTrap : conf_trap\n",
      "NTPConfUnpeer : conf_unpeer\n",
      "NTPControl : Control message\n",
      "NTPErrorStatusPacket : error status\n",
      "NTPExtension : extension\n",
      "NTPExtensions : NTPv4 extensions\n",
      "NTPHeader  : NTPHeader\n",
      "NTPInfoAuth : info_auth\n",
      "NTPInfoControl : info_control\n",
      "NTPInfoIOStats : info_io_stats\n",
      "NTPInfoIfStatsIPv4 : info_if_stats\n",
      "NTPInfoIfStatsIPv6 : info_if_stats\n",
      "NTPInfoKernel : info_kernel\n",
      "NTPInfoLoop : info_loop\n",
      "NTPInfoMemStats : info_mem_stats\n",
      "NTPInfoMonitor1 : InfoMonitor1\n",
      "NTPInfoPeer : info_peer\n",
      "NTPInfoPeerList : info_peer_list\n",
      "NTPInfoPeerStats : info_peer_stats\n",
      "NTPInfoPeerSummary : info_peer_summary\n",
      "NTPInfoSys : info_sys\n",
      "NTPInfoSysStats : info_sys_stats\n",
      "NTPInfoTimerStats : info_timer_stats\n",
      "NTPPeerStatusDataPacket : data / peer status\n",
      "NTPPeerStatusPacket : peer status\n",
      "NTPPrivate : Private (mode 7)\n",
      "NTPPrivatePktTail : req_pkt_tail\n",
      "NTPPrivateReqPacket : request data\n",
      "NTPStatusPacket : status\n",
      "NTPSystemStatusPacket : system status\n",
      "NetBIOS_DS : NetBIOS datagram service\n",
      "NetflowDataflowsetV9 : Netflow DataFlowSet V9\n",
      "NetflowFlowsetV9 : Netflow FlowSet V9\n",
      "NetflowHeader : Netflow Header\n",
      "NetflowHeaderV1 : Netflow Header v1\n",
      "NetflowHeaderV5 : Netflow Header v5\n",
      "NetflowHeaderV9 : Netflow Header V9\n",
      "NetflowOptionsFlowsetOptionV9 : Netflow Options Template FlowSet V9 - Option\n",
      "NetflowOptionsFlowsetScopeV9 : Netflow Options Template FlowSet V9 - Scope\n",
      "NetflowOptionsFlowsetV9 : Netflow Options Template FlowSet V9\n",
      "NetflowOptionsRecordOptionV9 : Netflow Options Template Record V9 - Option\n",
      "NetflowOptionsRecordScopeV9 : Netflow Options Template Record V9 - Scope\n",
      "NetflowRecordV1 : Netflow Record v1\n",
      "NetflowRecordV5 : Netflow Record v5\n",
      "NetflowRecordV9 : Netflow DataFlowset Record V9\n",
      "NetflowTemplateFieldV9 : Netflow Flowset Template Field V9\n",
      "NetflowTemplateV9 : Netflow Flowset Template V9\n",
      "NoPayload  : None\n",
      "OCSP_ByKey : None\n",
      "OCSP_ByName : None\n",
      "OCSP_CertID : None\n",
      "OCSP_CertStatus : None\n",
      "OCSP_GoodInfo : None\n",
      "OCSP_ResponderID : None\n",
      "OCSP_Response : None\n",
      "OCSP_ResponseBytes : None\n",
      "OCSP_ResponseData : None\n",
      "OCSP_RevokedInfo : None\n",
      "OCSP_SingleResponse : None\n",
      "OCSP_UnknownInfo : None\n",
      "PPI        : Per-Packet Information header (partial)\n",
      "PPP        : PPP Link Layer\n",
      "PPP_CHAP   : PPP Challenge Handshake Authentication Protocol\n",
      "PPP_CHAP_ChallengeResponse : PPP Challenge Handshake Authentication Protocol\n",
      "PPP_ECP    : None\n",
      "PPP_ECP_Option : PPP ECP Option\n",
      "PPP_ECP_Option_OUI : PPP ECP Option\n",
      "PPP_IPCP   : None\n",
      "PPP_IPCP_Option : PPP IPCP Option\n",
      "PPP_IPCP_Option_DNS1 : PPP IPCP Option: DNS1 Address\n",
      "PPP_IPCP_Option_DNS2 : PPP IPCP Option: DNS2 Address\n",
      "PPP_IPCP_Option_IPAddress : PPP IPCP Option: IP Address\n",
      "PPP_IPCP_Option_NBNS1 : PPP IPCP Option: NBNS1 Address\n",
      "PPP_IPCP_Option_NBNS2 : PPP IPCP Option: NBNS2 Address\n",
      "PPP_LCP    : PPP Link Control Protocol\n",
      "PPP_LCP_ACCM_Option : PPP LCP Option\n",
      "PPP_LCP_Auth_Protocol_Option : PPP LCP Option\n",
      "PPP_LCP_Callback_Option : PPP LCP Option\n",
      "PPP_LCP_Code_Reject : PPP Link Control Protocol\n",
      "PPP_LCP_Configure : PPP Link Control Protocol\n",
      "PPP_LCP_Discard_Request : PPP Link Control Protocol\n",
      "PPP_LCP_Echo : PPP Link Control Protocol\n",
      "PPP_LCP_MRU_Option : PPP LCP Option\n",
      "PPP_LCP_Magic_Number_Option : PPP LCP Option\n",
      "PPP_LCP_Option : PPP LCP Option\n",
      "PPP_LCP_Protocol_Reject : PPP Link Control Protocol\n",
      "PPP_LCP_Quality_Protocol_Option : PPP LCP Option\n",
      "PPP_LCP_Terminate : PPP Link Control Protocol\n",
      "PPP_PAP    : PPP Password Authentication Protocol\n",
      "PPP_PAP_Request : PPP Password Authentication Protocol\n",
      "PPP_PAP_Response : PPP Password Authentication Protocol\n",
      "PPPoE      : PPP over Ethernet\n",
      "PPPoED     : PPP over Ethernet Discovery\n",
      "PPTP       : PPTP\n",
      "PPTPCallClearRequest : PPTP Call Clear Request\n",
      "PPTPCallDisconnectNotify : PPTP Call Disconnect Notify\n",
      "PPTPEchoReply : PPTP Echo Reply\n",
      "PPTPEchoRequest : PPTP Echo Request\n",
      "PPTPIncomingCallConnected : PPTP Incoming Call Connected\n",
      "PPTPIncomingCallReply : PPTP Incoming Call Reply\n",
      "PPTPIncomingCallRequest : PPTP Incoming Call Request\n",
      "PPTPOutgoingCallReply : PPTP Outgoing Call Reply\n",
      "PPTPOutgoingCallRequest : PPTP Outgoing Call Request\n",
      "PPTPSetLinkInfo : PPTP Set Link Info\n",
      "PPTPStartControlConnectionReply : PPTP Start Control Connection Reply\n",
      "PPTPStartControlConnectionRequest : PPTP Start Control Connection Request\n",
      "PPTPStopControlConnectionReply : PPTP Stop Control Connection Reply\n",
      "PPTPStopControlConnectionRequest : PPTP Stop Control Connection Request\n",
      "PPTPWANErrorNotify : PPTP WAN Error Notify\n",
      "Packet     : None\n",
      "Pad1       : Pad1\n",
      "PadN       : PadN\n",
      "Padding    : Padding\n",
      "PrismHeader : Prism header\n",
      "PseudoIPv6 : Pseudo IPv6 Header\n",
      "RIP        : RIP header\n",
      "RIPAuth    : RIP authentication\n",
      "RIPEntry   : RIP entry\n",
      "RSAOtherPrimeInfo : None\n",
      "RSAPrivateKey : None\n",
      "RSAPrivateKey_OpenSSL : None\n",
      "RSAPublicKey : None\n",
      "RTP        : RTP\n",
      "RTPExtension : RTP extension\n",
      "RadioTap   : RadioTap dummy\n",
      "Radius     : RADIUS\n",
      "RadiusAttr_ARAP_Security : Radius Attribute\n",
      "RadiusAttr_Acct_Delay_Time : Radius Attribute\n",
      "RadiusAttr_Acct_Input_Gigawords : Radius Attribute\n",
      "RadiusAttr_Acct_Input_Octets : Radius Attribute\n",
      "RadiusAttr_Acct_Input_Packets : Radius Attribute\n",
      "RadiusAttr_Acct_Interim_Interval : Radius Attribute\n",
      "RadiusAttr_Acct_Link_Count : Radius Attribute\n",
      "RadiusAttr_Acct_Output_Gigawords : Radius Attribute\n",
      "RadiusAttr_Acct_Output_Octets : Radius Attribute\n",
      "RadiusAttr_Acct_Output_Packets : Radius Attribute\n",
      "RadiusAttr_Acct_Session_Time : Radius Attribute\n",
      "RadiusAttr_Acct_Tunnel_Packets_Lost : Radius Attribute\n",
      "RadiusAttr_EAP_Message : EAP-Message\n",
      "RadiusAttr_Egress_VLANID : Radius Attribute\n",
      "RadiusAttr_Framed_AppleTalk_Link : Radius Attribute\n",
      "RadiusAttr_Framed_AppleTalk_Network : Radius Attribute\n",
      "RadiusAttr_Framed_IPX_Network : Radius Attribute\n",
      "RadiusAttr_Framed_IP_Address : Radius Attribute\n",
      "RadiusAttr_Framed_IP_Netmask : Radius Attribute\n",
      "RadiusAttr_Framed_MTU : Radius Attribute\n",
      "RadiusAttr_Framed_Protocol : Radius Attribute\n",
      "RadiusAttr_Idle_Timeout : Radius Attribute\n",
      "RadiusAttr_Login_IP_Host : Radius Attribute\n",
      "RadiusAttr_Login_TCP_Port : Radius Attribute\n",
      "RadiusAttr_Management_Privilege_Level : Radius Attribute\n",
      "RadiusAttr_Message_Authenticator : Radius Attribute\n",
      "RadiusAttr_Mobility_Domain_Id : Radius Attribute\n",
      "RadiusAttr_NAS_IP_Address : Radius Attribute\n",
      "RadiusAttr_NAS_Port : Radius Attribute\n",
      "RadiusAttr_NAS_Port_Type : Radius Attribute\n",
      "RadiusAttr_PMIP6_Home_DHCP4_Server_Address : Radius Attribute\n",
      "RadiusAttr_PMIP6_Home_IPv4_Gateway : Radius Attribute\n",
      "RadiusAttr_PMIP6_Home_LMA_IPv4_Address : Radius Attribute\n",
      "RadiusAttr_PMIP6_Visited_DHCP4_Server_Address : Radius Attribute\n",
      "RadiusAttr_PMIP6_Visited_IPv4_Gateway : Radius Attribute\n",
      "RadiusAttr_PMIP6_Visited_LMA_IPv4_Address : Radius Attribute\n",
      "RadiusAttr_Password_Retry : Radius Attribute\n",
      "RadiusAttr_Port_Limit : Radius Attribute\n",
      "RadiusAttr_Preauth_Timeout : Radius Attribute\n",
      "RadiusAttr_Service_Type : Radius Attribute\n",
      "RadiusAttr_Session_Timeout : Radius Attribute\n",
      "RadiusAttr_State : Radius Attribute\n",
      "RadiusAttr_Tunnel_Preference : Radius Attribute\n",
      "RadiusAttr_Vendor_Specific : Vendor-Specific\n",
      "RadiusAttr_WLAN_AKM_Suite : Radius Attribute\n",
      "RadiusAttr_WLAN_Group_Cipher : Radius Attribute\n",
      "RadiusAttr_WLAN_Group_Mgmt_Cipher : Radius Attribute\n",
      "RadiusAttr_WLAN_Pairwise_Cipher : Radius Attribute\n",
      "RadiusAttr_WLAN_RF_Band : Radius Attribute\n",
      "RadiusAttr_WLAN_Reason_Code : Radius Attribute\n",
      "RadiusAttr_WLAN_Venue_Info : Radius Attribute\n",
      "RadiusAttribute : Radius Attribute\n",
      "Raw        : Raw\n",
      "RouterAlert : Router Alert\n",
      "SCTP       : None\n",
      "SCTPChunkAbort : None\n",
      "SCTPChunkAddressConf : None\n",
      "SCTPChunkAddressConfAck : None\n",
      "SCTPChunkAuthentication : None\n",
      "SCTPChunkCookieAck : None\n",
      "SCTPChunkCookieEcho : None\n",
      "SCTPChunkData : None\n",
      "SCTPChunkError : None\n",
      "SCTPChunkHeartbeatAck : None\n",
      "SCTPChunkHeartbeatReq : None\n",
      "SCTPChunkInit : None\n",
      "SCTPChunkInitAck : None\n",
      "SCTPChunkParamAdaptationLayer : None\n",
      "SCTPChunkParamAddIPAddr : None\n",
      "SCTPChunkParamChunkList : None\n",
      "SCTPChunkParamCookiePreservative : None\n",
      "SCTPChunkParamDelIPAddr : None\n",
      "SCTPChunkParamECNCapable : None\n",
      "SCTPChunkParamErrorIndication : None\n",
      "SCTPChunkParamFwdTSN : None\n",
      "SCTPChunkParamHearbeatInfo : None\n",
      "SCTPChunkParamHostname : None\n",
      "SCTPChunkParamIPv4Addr : None\n",
      "SCTPChunkParamIPv6Addr : None\n",
      "SCTPChunkParamRandom : None\n",
      "SCTPChunkParamRequestedHMACFunctions : None\n",
      "SCTPChunkParamSetPrimaryAddr : None\n",
      "SCTPChunkParamStateCookie : None\n",
      "SCTPChunkParamSuccessIndication : None\n",
      "SCTPChunkParamSupportedAddrTypes : None\n",
      "SCTPChunkParamSupportedExtensions : None\n",
      "SCTPChunkParamUnrocognizedParam : None\n",
      "SCTPChunkSACK : None\n",
      "SCTPChunkShutdown : None\n",
      "SCTPChunkShutdownAck : None\n",
      "SCTPChunkShutdownComplete : None\n",
      "SMBMailSlot : None\n",
      "SMBNegociate_Protocol_Request_Header : SMBNegociate Protocol Request Header\n",
      "SMBNegociate_Protocol_Request_Tail : SMB Negociate Protocol Request Tail\n",
      "SMBNegociate_Protocol_Response_Advanced_Security : SMBNegociate Protocol Response Advanced Security\n",
      "SMBNegociate_Protocol_Response_No_Security : SMBNegociate Protocol Response No Security\n",
      "SMBNegociate_Protocol_Response_No_Security_No_Key : None\n",
      "SMBNetlogon_Protocol_Response_Header : SMBNetlogon Protocol Response Header\n",
      "SMBNetlogon_Protocol_Response_Tail_LM20 : SMB Netlogon Protocol Response Tail LM20\n",
      "SMBNetlogon_Protocol_Response_Tail_SAM : SMB Netlogon Protocol Response Tail SAM\n",
      "SMBSession_Setup_AndX_Request : Session Setup AndX Request\n",
      "SMBSession_Setup_AndX_Response : Session Setup AndX Response\n",
      "SM_Confirm : Pairing Confirm\n",
      "SM_Encryption_Information : Encryption Information\n",
      "SM_Failed  : Pairing Failed\n",
      "SM_Hdr     : SM header\n",
      "SM_Identity_Address_Information : Identity Address Information\n",
      "SM_Identity_Information : Identity Information\n",
      "SM_Master_Identification : Master Identification\n",
      "SM_Pairing_Request : Pairing Request\n",
      "SM_Pairing_Response : Pairing Response\n",
      "SM_Random  : Pairing Random\n",
      "SM_Signing_Information : Signing Information\n",
      "SNAP       : SNAP\n",
      "SNMP       : None\n",
      "SNMPbulk   : None\n",
      "SNMPget    : None\n",
      "SNMPinform : None\n",
      "SNMPnext   : None\n",
      "SNMPresponse : None\n",
      "SNMPset    : None\n",
      "SNMPtrapv1 : None\n",
      "SNMPtrapv2 : None\n",
      "SNMPvarbind : None\n",
      "STP        : Spanning Tree Protocol\n",
      "Skinny     : Skinny\n",
      "TCP        : TCP\n",
      "TCPerror   : TCP in ICMP\n",
      "TFTP       : TFTP opcode\n",
      "TFTP_ACK   : TFTP Ack\n",
      "TFTP_DATA  : TFTP Data\n",
      "TFTP_ERROR : TFTP Error\n",
      "TFTP_OACK  : TFTP Option Ack\n",
      "TFTP_Option : None\n",
      "TFTP_Options : None\n",
      "TFTP_RRQ   : TFTP Read Request\n",
      "TFTP_WRQ   : TFTP Write Request\n",
      "UDP        : UDP\n",
      "UDPerror   : UDP in ICMP\n",
      "USER_CLASS_DATA : user class data\n",
      "VENDOR_CLASS_DATA : vendor class data\n",
      "VENDOR_SPECIFIC_OPTION : vendor specific option data\n",
      "VRRP       : None\n",
      "VRRPv3     : None\n",
      "VXLAN      : VXLAN\n",
      "X509_AccessDescription : None\n",
      "X509_AlgorithmIdentifier : None\n",
      "X509_Attribute : None\n",
      "X509_AttributeTypeAndValue : None\n",
      "X509_AttributeValue : None\n",
      "X509_CRL   : None\n",
      "X509_Cert  : None\n",
      "X509_DNSName : None\n",
      "X509_DirectoryName : None\n",
      "X509_EDIPartyName : None\n",
      "X509_ExtAuthInfoAccess : None\n",
      "X509_ExtAuthorityKeyIdentifier : None\n",
      "X509_ExtBasicConstraints : None\n",
      "X509_ExtCRLDistributionPoints : None\n",
      "X509_ExtCRLNumber : None\n",
      "X509_ExtCertificateIssuer : None\n",
      "X509_ExtCertificatePolicies : None\n",
      "X509_ExtComment : None\n",
      "X509_ExtDefault : None\n",
      "X509_ExtDeltaCRLIndicator : None\n",
      "X509_ExtDistributionPoint : None\n",
      "X509_ExtDistributionPointName : None\n",
      "X509_ExtExtendedKeyUsage : None\n",
      "X509_ExtFreshestCRL : None\n",
      "X509_ExtFullName : None\n",
      "X509_ExtGeneralSubtree : None\n",
      "X509_ExtInhibitAnyPolicy : None\n",
      "X509_ExtInvalidityDate : None\n",
      "X509_ExtIssuerAltName : None\n",
      "X509_ExtIssuingDistributionPoint : None\n",
      "X509_ExtKeyUsage : None\n",
      "X509_ExtNameConstraints : None\n",
      "X509_ExtNameRelativeToCRLIssuer : None\n",
      "X509_ExtNetscapeCertType : None\n",
      "X509_ExtNoticeReference : None\n",
      "X509_ExtPolicyConstraints : None\n",
      "X509_ExtPolicyInformation : None\n",
      "X509_ExtPolicyMappings : None\n",
      "X509_ExtPolicyQualifierInfo : None\n",
      "X509_ExtPrivateKeyUsagePeriod : None\n",
      "X509_ExtQcStatement : None\n",
      "X509_ExtQcStatements : None\n",
      "X509_ExtReasonCode : None\n",
      "X509_ExtSubjInfoAccess : None\n",
      "X509_ExtSubjectAltName : None\n",
      "X509_ExtSubjectDirectoryAttributes : None\n",
      "X509_ExtSubjectKeyIdentifier : None\n",
      "X509_ExtUserNotice : None\n",
      "X509_Extension : None\n",
      "X509_Extensions : None\n",
      "X509_GeneralName : None\n",
      "X509_IPAddress : None\n",
      "X509_OtherName : None\n",
      "X509_PolicyMapping : None\n",
      "X509_RDN   : None\n",
      "X509_RFC822Name : None\n",
      "X509_RegisteredID : None\n",
      "X509_RevokedCertificate : None\n",
      "X509_SubjectPublicKeyInfo : None\n",
      "X509_TBSCertList : None\n",
      "X509_TBSCertificate : None\n",
      "X509_URI   : None\n",
      "X509_Validity : None\n",
      "X509_X400Address : None\n",
      "_DHCP6OptGuessPayload : None\n",
      "_DNSRRdummy : Dummy class that implements post_build() for Resource Records\n",
      "_ESPPlain  : ESP\n",
      "_ICMPv6    : ICMPv6 dummy class\n",
      "_ICMPv6Error : ICMPv6 errors dummy class\n",
      "_ICMPv6ML  : ICMPv6 dummy class\n",
      "_IPOption_HDR : None\n",
      "_IPv46     : IP\n",
      "_IPv6ExtHdr : Abstract IPv6 Option Header\n",
      "_LLMNR     : None\n",
      "_MobilityHeader : Dummy IPv6 Mobility Header\n",
      "_RadiusAttrHexStringVal : Radius Attribute\n",
      "_RadiusAttrIPv4AddrVal : Radius Attribute\n",
      "_RadiusAttrIntEnumVal : Radius Attribute\n",
      "_RadiusAttrIntValue : Radius Attribute\n",
      "_SpecificRadiusAttr : Radius Attribute\n"
     ]
    }
   ],
   "source": [
    "from scapy.all import *\n",
    "ls()"
   ]
  },
  {
   "cell_type": "code",
   "execution_count": 2,
   "metadata": {},
   "outputs": [
    {
     "name": "stdout",
     "output_type": "stream",
     "text": [
      "sport      : ShortEnumField                      = (20)\n",
      "dport      : ShortEnumField                      = (80)\n",
      "seq        : IntField                            = (0)\n",
      "ack        : IntField                            = (0)\n",
      "dataofs    : BitField (4 bits)                   = (None)\n",
      "reserved   : BitField (3 bits)                   = (0)\n",
      "flags      : FlagsField (9 bits)                 = (<Flag 2 (S)>)\n",
      "window     : ShortField                          = (8192)\n",
      "chksum     : XShortField                         = (None)\n",
      "urgptr     : ShortField                          = (0)\n",
      "options    : TCPOptionsField                     = ([])\n"
     ]
    }
   ],
   "source": [
    "ls(TCP)"
   ]
  },
  {
   "cell_type": "code",
   "execution_count": 3,
   "metadata": {},
   "outputs": [
    {
     "name": "stdout",
     "output_type": "stream",
     "text": [
      "IPID_count          : Identify IP id values classes in a list of packets\n",
      "arpcachepoison      : Poison target's cache with (your MAC,victim's IP) couple\n",
      "arping              : Send ARP who-has requests to determine which hosts are up\n",
      "bind_layers         : Bind 2 layers on some specific fields' values\n",
      "bridge_and_sniff    : Forward traffic between interfaces if1 and if2, sniff and return\n",
      "chexdump            :  Build a per byte hexadecimal representation\n",
      "computeNIGroupAddr  : Compute the NI group Address. Can take a FQDN as input parameter\n",
      "corrupt_bits        : Flip a given percentage or number of bits from a string\n",
      "corrupt_bytes       : Corrupt a given percentage or number of bytes from a string\n",
      "defrag              : defrag(plist) -> ([not fragmented], [defragmented],\n",
      "defragment          : defrag(plist) -> plist defragmented as much as possible \n",
      "dhcp_request        : --\n",
      "dyndns_add          : Send a DNS add message to a nameserver for \"name\" to have a new \"rdata\"\n",
      "dyndns_del          : Send a DNS delete message to a nameserver for \"name\"\n",
      "etherleak           : Exploit Etherleak flaw\n",
      "fletcher16_checkbytes:  Calculates the Fletcher-16 checkbytes returned as 2 byte binary-string.\n",
      "fletcher16_checksum :  Calculates Fletcher-16 checksum of the given buffer.\n",
      "fragleak            : --\n",
      "fragleak2           : --\n",
      "fragment            : Fragment a big IP datagram\n",
      "fuzz                : Transform a layer into a fuzzy layer by replacing some default values by random objects\n",
      "getmacbyip          : Return MAC address corresponding to a given IP address\n",
      "getmacbyip6         : Returns the MAC address corresponding to an IPv6 address\n",
      "hexdiff             : Show differences between 2 binary strings\n",
      "hexdump             :  Build a tcpdump like hexadecimal view\n",
      "hexedit             : --\n",
      "hexstr              : --\n",
      "import_hexcap       : --\n",
      "is_promisc          : Try to guess if target is in Promisc mode. The target is provided by its ip.\n",
      "linehexdump         :  Build an equivalent view of hexdump() on a single line\n",
      "ls                  : List  available layers, or infos on a given layer class or name\n",
      "neighsol            : Sends an ICMPv6 Neighbor Solicitation message to get the MAC address of the neighbor with specified IPv6 address addr\n",
      "overlap_frag        : Build overlapping fragments to bypass NIPS\n",
      "promiscping         : Send ARP who-has requests to determine which hosts are in promiscuous mode\n",
      "rdpcap              : Read a pcap or pcapng file and return a packet list\n",
      "report_ports        : portscan a target and output a LaTeX table\n",
      "restart             : Restarts scapy\n",
      "send                : Send packets at layer 3\n",
      "sendp               : Send packets at layer 2\n",
      "sendpfast           : Send packets at layer 2 using tcpreplay for performance\n",
      "sniff               : \n",
      "split_layers        : Split 2 layers previously bound\n",
      "sr                  : Send and receive packets at layer 3\n",
      "sr1                 : Send packets at layer 3 and return only the first answer\n",
      "sr1flood            : Flood and receive packets at layer 3 and return only the first answer\n",
      "srbt                : send and receive using a bluetooth socket\n",
      "srbt1               : send and receive 1 packet using a bluetooth socket\n",
      "srflood             : Flood and receive packets at layer 3\n",
      "srloop              : Send a packet at layer 3 in loop and print the answer each time\n",
      "srp                 : Send and receive packets at layer 2\n",
      "srp1                : Send and receive packets at layer 2 and return only the first answer\n",
      "srp1flood           : Flood and receive packets at layer 2 and return only the first answer\n",
      "srpflood            : Flood and receive packets at layer 2\n",
      "srploop             : Send a packet at layer 2 in loop and print the answer each time\n",
      "tcpdump             : Run tcpdump or tshark on a list of packets\n",
      "traceroute          : Instant TCP traceroute\n",
      "traceroute6         : Instant TCP traceroute using IPv6\n",
      "traceroute_map      : Util function to call traceroute on multiple targets, then\n",
      "tshark              : Sniff packets and print them calling pkt.summary(), a bit like text wireshark\n",
      "wireshark           : Run wireshark on a list of packets\n",
      "wrpcap              : Write a list of packets to a pcap file\n"
     ]
    }
   ],
   "source": [
    "lsc()"
   ]
  },
  {
   "cell_type": "code",
   "execution_count": 4,
   "metadata": {},
   "outputs": [
    {
     "name": "stdout",
     "output_type": "stream",
     "text": [
      "Help on function traceroute in module scapy.layers.inet:\n",
      "\n",
      "traceroute(target, dport=80, minttl=1, maxttl=30, sport=<RandShort>, l4=None, filter=None, timeout=2, verbose=None, **kargs)\n",
      "    Instant TCP traceroute\n",
      "    traceroute(target, [maxttl=30,] [dport=80,] [sport=80,] [verbose=conf.verb]) -> None\n",
      "\n"
     ]
    }
   ],
   "source": [
    "help(traceroute)"
   ]
  },
  {
   "cell_type": "markdown",
   "metadata": {},
   "source": [
    "### Basic syntax (defining a TCP/IP packet)"
   ]
  },
  {
   "cell_type": "code",
   "execution_count": 5,
   "metadata": {},
   "outputs": [],
   "source": [
    "packet1 = IP(dst=\"127.0.0.1\")"
   ]
  },
  {
   "cell_type": "markdown",
   "metadata": {},
   "source": [
    "##### Domain name"
   ]
  },
  {
   "cell_type": "code",
   "execution_count": 6,
   "metadata": {},
   "outputs": [],
   "source": [
    "packet2 = IP(dst=\"localhost\")"
   ]
  },
  {
   "cell_type": "markdown",
   "metadata": {},
   "source": [
    "##### CIDR notation"
   ]
  },
  {
   "cell_type": "code",
   "execution_count": 7,
   "metadata": {},
   "outputs": [],
   "source": [
    "packet3 = IP(dst=\"10.0.0/24\")"
   ]
  },
  {
   "cell_type": "markdown",
   "metadata": {},
   "source": [
    "##### Mixed domain name and CIDR formulation (send packets to all IPs on the same subnet as IP for www.domain.com)"
   ]
  },
  {
   "cell_type": "code",
   "execution_count": 8,
   "metadata": {},
   "outputs": [],
   "source": [
    "packet4 = IP(dst=\"www.domain.com/24\")"
   ]
  },
  {
   "cell_type": "markdown",
   "metadata": {},
   "source": [
    "##### Python list"
   ]
  },
  {
   "cell_type": "code",
   "execution_count": 9,
   "metadata": {},
   "outputs": [],
   "source": [
    "packet5 = IP(dst=['10.0.0.1','10.0.0.2','10.0.0.3'])"
   ]
  },
  {
   "cell_type": "markdown",
   "metadata": {},
   "source": [
    "##### Constructing a full packet (encapsulating)"
   ]
  },
  {
   "cell_type": "code",
   "execution_count": 10,
   "metadata": {},
   "outputs": [
    {
     "name": "stdout",
     "output_type": "stream",
     "text": [
      "version    : BitField (4 bits)                   = 4               (4)\n",
      "ihl        : BitField (4 bits)                   = None            (None)\n",
      "tos        : XByteField                          = 0               (0)\n",
      "len        : ShortField                          = None            (None)\n",
      "id         : ShortField                          = 1               (1)\n",
      "flags      : FlagsField (3 bits)                 = <Flag 0 ()>     (<Flag 0 ()>)\n",
      "frag       : BitField (13 bits)                  = 0               (0)\n",
      "ttl        : ByteField                           = 64              (64)\n",
      "proto      : ByteEnumField                       = 6               (0)\n",
      "chksum     : XShortField                         = None            (None)\n",
      "src        : SourceIPField                       = '127.0.0.1'     (None)\n",
      "dst        : DestIPField                         = '127.0.0.1'     (None)\n",
      "options    : PacketListField                     = []              ([])\n",
      "--\n",
      "sport      : ShortEnumField                      = 20              (20)\n",
      "dport      : ShortEnumField                      = 2222            (80)\n",
      "seq        : IntField                            = 0               (0)\n",
      "ack        : IntField                            = 0               (0)\n",
      "dataofs    : BitField (4 bits)                   = None            (None)\n",
      "reserved   : BitField (3 bits)                   = 0               (0)\n",
      "flags      : FlagsField (9 bits)                 = <Flag 2 (S)>    (<Flag 2 (S)>)\n",
      "window     : ShortField                          = 8192            (8192)\n",
      "chksum     : XShortField                         = None            (None)\n",
      "urgptr     : ShortField                          = 0               (0)\n",
      "options    : TCPOptionsField                     = []              ([])\n",
      "--\n",
      "load       : StrField                            = b'Hello, anyone there?' (b'')\n"
     ]
    }
   ],
   "source": [
    "packet1 = IP(dst=\"127.0.0.1\")/TCP(dport=2222)/\"Hello, anyone there?\"\n",
    "ls(packet1)"
   ]
  },
  {
   "cell_type": "code",
   "execution_count": 50,
   "metadata": {},
   "outputs": [
    {
     "name": "stdout",
     "output_type": "stream",
     "text": [
      "version    : BitField (4 bits)                   = 4               (4)\n",
      "ihl        : BitField (4 bits)                   = None            (None)\n",
      "tos        : XByteField                          = 0               (0)\n",
      "len        : ShortField                          = None            (None)\n",
      "id         : ShortField                          = 1               (1)\n",
      "flags      : FlagsField (3 bits)                 = <Flag 0 ()>     (<Flag 0 ()>)\n",
      "frag       : BitField (13 bits)                  = 0               (0)\n",
      "ttl        : ByteField                           = 64              (64)\n",
      "proto      : ByteEnumField                       = 6               (0)\n",
      "chksum     : XShortField                         = None            (None)\n",
      "src        : SourceIPField                       = '127.0.0.1'     (None)\n",
      "dst        : DestIPField                         = '127.0.0.10'    (None)\n",
      "options    : PacketListField                     = []              ([])\n",
      "--\n",
      "sport      : ShortEnumField                      = 20              (20)\n",
      "dport      : ShortEnumField                      = 2222            (80)\n",
      "seq        : IntField                            = 0               (0)\n",
      "ack        : IntField                            = 0               (0)\n",
      "dataofs    : BitField (4 bits)                   = None            (None)\n",
      "reserved   : BitField (3 bits)                   = 0               (0)\n",
      "flags      : FlagsField (9 bits)                 = <Flag 2 (S)>    (<Flag 2 (S)>)\n",
      "window     : ShortField                          = 8192            (8192)\n",
      "chksum     : XShortField                         = None            (None)\n",
      "urgptr     : ShortField                          = 0               (0)\n",
      "options    : TCPOptionsField                     = []              ([])\n",
      "--\n",
      "load       : StrField                            = b'Hello, anyone there?' (b'')\n"
     ]
    }
   ],
   "source": [
    "part1 = IP(dst=\"127.0.0.10\")\n",
    "part2 = TCP(dport=2222)\n",
    "message = \"Hello, anyone there?\"\n",
    "packet1 = part1/part2/message\n",
    "ls(packet1)"
   ]
  },
  {
   "cell_type": "code",
   "execution_count": 12,
   "metadata": {},
   "outputs": [
    {
     "data": {
      "text/plain": [
       "<IP  frag=0 proto=tcp dst=Net('localhost') |<TCP  dport=EtherNet_IP_1 |<Raw  load='Hello, anyone there?' |>>>"
      ]
     },
     "execution_count": 12,
     "metadata": {},
     "output_type": "execute_result"
    }
   ],
   "source": [
    "packet1"
   ]
  },
  {
   "cell_type": "code",
   "execution_count": 13,
   "metadata": {},
   "outputs": [
    {
     "data": {
      "text/plain": [
       "\"IP / TCP 127.0.0.1:ftp_data > Net('localhost'):EtherNet_IP_1 S / Raw\""
      ]
     },
     "execution_count": 13,
     "metadata": {},
     "output_type": "execute_result"
    }
   ],
   "source": [
    "packet1.summary()"
   ]
  },
  {
   "cell_type": "code",
   "execution_count": 14,
   "metadata": {},
   "outputs": [
    {
     "name": "stdout",
     "output_type": "stream",
     "text": [
      "###[ IP ]### \n",
      "  version   = 4\n",
      "  ihl       = None\n",
      "  tos       = 0x0\n",
      "  len       = None\n",
      "  id        = 1\n",
      "  flags     = \n",
      "  frag      = 0\n",
      "  ttl       = 64\n",
      "  proto     = tcp\n",
      "  chksum    = None\n",
      "  src       = 127.0.0.1\n",
      "  dst       = Net('localhost')\n",
      "  \\options   \\\n",
      "###[ TCP ]### \n",
      "     sport     = ftp_data\n",
      "     dport     = EtherNet_IP_1\n",
      "     seq       = 0\n",
      "     ack       = 0\n",
      "     dataofs   = None\n",
      "     reserved  = 0\n",
      "     flags     = S\n",
      "     window    = 8192\n",
      "     chksum    = None\n",
      "     urgptr    = 0\n",
      "     options   = []\n",
      "###[ Raw ]### \n",
      "        load      = 'Hello, anyone there?'\n",
      "\n"
     ]
    }
   ],
   "source": [
    "packet1.show()"
   ]
  },
  {
   "cell_type": "code",
   "execution_count": 15,
   "metadata": {},
   "outputs": [
    {
     "data": {
      "text/plain": [
       "4"
      ]
     },
     "execution_count": 15,
     "metadata": {},
     "output_type": "execute_result"
    }
   ],
   "source": [
    "packet1.version"
   ]
  },
  {
   "cell_type": "code",
   "execution_count": 16,
   "metadata": {},
   "outputs": [
    {
     "data": {
      "text/plain": [
       "<Flag 2 (S)>"
      ]
     },
     "execution_count": 16,
     "metadata": {},
     "output_type": "execute_result"
    }
   ],
   "source": [
    "packet1[TCP].flags"
   ]
  },
  {
   "cell_type": "markdown",
   "metadata": {},
   "source": [
    "##### Define any field/option (ex: Set ttl and flags to create a RST-ACK packet)"
   ]
  },
  {
   "cell_type": "code",
   "execution_count": 53,
   "metadata": {},
   "outputs": [],
   "source": [
    "packet6=IP(dst=\"localhost\",ttl=10)/TCP(dport=80,flags=\"RA\")"
   ]
  },
  {
   "cell_type": "markdown",
   "metadata": {},
   "source": [
    "### Sending packets"
   ]
  },
  {
   "cell_type": "code",
   "execution_count": 51,
   "metadata": {},
   "outputs": [
    {
     "name": "stdout",
     "output_type": "stream",
     "text": [
      "\n",
      "Sent 1 packets.\n"
     ]
    }
   ],
   "source": [
    "#Send the contents of packet1 (fire and forget)\n",
    "send(packet1)"
   ]
  },
  {
   "cell_type": "code",
   "execution_count": 91,
   "metadata": {
    "scrolled": true
   },
   "outputs": [
    {
     "name": "stdout",
     "output_type": "stream",
     "text": [
      "\n",
      "Sent 1 packets.\n"
     ]
    }
   ],
   "source": [
    "# Send a ICMP echo request to localhost with \"Hello\" as padding\n",
    "helloping=IP(dst=\"127.0.0.10\")/ICMP()/\"Hello\"\n",
    "send(helloping)"
   ]
  },
  {
   "cell_type": "code",
   "execution_count": null,
   "metadata": {},
   "outputs": [],
   "source": [
    "#Send a DNS request (uses UDP), and wait for one response \n",
    "ans, unans = sr1(IP(src=\"192.168.1.173\",dst=\"8.8.8.8\")/UDP()/DNS(rd=1,qd=DNSQR(qname=\"www.scapy.org\")))"
   ]
  },
  {
   "cell_type": "code",
   "execution_count": 138,
   "metadata": {},
   "outputs": [
    {
     "name": "stdout",
     "output_type": "stream",
     "text": [
      "Help on function srloop in module scapy.sendrecv:\n",
      "\n",
      "srloop(pkts, *args, **kargs)\n",
      "    Send a packet at layer 3 in loop and print the answer each time\n",
      "    srloop(pkts, [prn], [inter], [count], ...) --> None\n",
      "\n",
      "RECV 1: IP / ICMP 192.168.1.141 > 192.168.1.173 echo-reply 0\n",
      "RECV 1: IP / ICMP 192.168.1.141 > 192.168.1.173 echo-reply 0\n",
      "RECV 1: IP / ICMP 192.168.1.141 > 192.168.1.173 echo-reply 0\n",
      "RECV 1: IP / ICMP 192.168.1.141 > 192.168.1.173 echo-reply 0\n",
      "        \n",
      "Sent 4 packets, received 4 packets. 100.0% hits.\n",
      "0000 IP / ICMP 192.168.1.173 > 192.168.1.141 echo-request 0 ==> IP / ICMP 192.168.1.141 > 192.168.1.173 echo-reply 0\n",
      "0001 IP / ICMP 192.168.1.173 > 192.168.1.141 echo-request 0 ==> IP / ICMP 192.168.1.141 > 192.168.1.173 echo-reply 0\n",
      "0002 IP / ICMP 192.168.1.173 > 192.168.1.141 echo-request 0 ==> IP / ICMP 192.168.1.141 > 192.168.1.173 echo-reply 0\n",
      "0003 IP / ICMP 192.168.1.173 > 192.168.1.141 echo-request 0 ==> IP / ICMP 192.168.1.141 > 192.168.1.173 echo-reply 0\n"
     ]
    }
   ],
   "source": [
    "#Send ping in a loop 4 times. \n",
    "help(srloop)\n",
    "# srloop runs continuously until you hit Ctrl-C (Interrupt here) or set a count.\n",
    "ping=IP(src=\"192.168.1.173\",dst=\"192.168.1.141\")/ICMP()\n",
    "ans=srloop(ping,count=4)\n",
    "#Show the responses\n",
    "ans[0].show()\n"
   ]
  },
  {
   "cell_type": "code",
   "execution_count": 67,
   "metadata": {},
   "outputs": [
    {
     "name": "stdout",
     "output_type": "stream",
     "text": [
      "Help on function sr in module scapy.sendrecv:\n",
      "\n",
      "sr(x, promisc=None, filter=None, iface=None, nofilter=0, *args, **kargs)\n",
      "    Send and receive packets at layer 3\n",
      "    nofilter: put 1 to avoid use of BPF filters\n",
      "    retry:    if positive, how many times to resend unanswered packets\n",
      "              if negative, how many times to retry when no more packets are answered\n",
      "    timeout:  how much time to wait after the last packet has been sent\n",
      "    verbose:  set verbosity level\n",
      "    multi:    whether to accept multiple answers for the same stimulus\n",
      "    filter:   provide a BPF filter\n",
      "    iface:    listen answers only on the given interface\n",
      "\n",
      "Begin emission:\n",
      "Finished sending 1 packets.\n",
      "Begin emission:\n",
      "Finished sending 1 packets.\n",
      "\n",
      "Received 343 packets, got 0 answers, remaining 1 packets\n"
     ]
    }
   ],
   "source": [
    "# Capture a responses, wait 10 seconds for responses, retry once if no response.\n",
    "help(sr)\n",
    "response,unans = sr(packet1,retry=1,timeout=10)"
   ]
  },
  {
   "cell_type": "code",
   "execution_count": 69,
   "metadata": {},
   "outputs": [
    {
     "name": "stdout",
     "output_type": "stream",
     "text": [
      "version    : BitField (4 bits)                   = 4               (4)\n",
      "ihl        : BitField (4 bits)                   = None            (None)\n",
      "tos        : XByteField                          = 0               (0)\n",
      "len        : ShortField                          = None            (None)\n",
      "id         : ShortField                          = 1               (1)\n",
      "flags      : FlagsField (3 bits)                 = <Flag 0 ()>     (<Flag 0 ()>)\n",
      "frag       : BitField (13 bits)                  = 0               (0)\n",
      "ttl        : ByteField                           = 64              (64)\n",
      "proto      : ByteEnumField                       = 6               (0)\n",
      "chksum     : XShortField                         = None            (None)\n",
      "src        : SourceIPField                       = '127.0.0.1'     (None)\n",
      "dst        : DestIPField                         = '127.0.0.10'    (None)\n",
      "options    : PacketListField                     = []              ([])\n",
      "--\n",
      "sport      : ShortEnumField                      = 20              (20)\n",
      "dport      : ShortEnumField                      = 2222            (80)\n",
      "seq        : IntField                            = 0               (0)\n",
      "ack        : IntField                            = 0               (0)\n",
      "dataofs    : BitField (4 bits)                   = None            (None)\n",
      "reserved   : BitField (3 bits)                   = 0               (0)\n",
      "flags      : FlagsField (9 bits)                 = <Flag 2 (S)>    (<Flag 2 (S)>)\n",
      "window     : ShortField                          = 8192            (8192)\n",
      "chksum     : XShortField                         = None            (None)\n",
      "urgptr     : ShortField                          = 0               (0)\n",
      "options    : TCPOptionsField                     = []              ([])\n",
      "--\n",
      "load       : StrField                            = b'Hello, anyone there?' (b'')\n"
     ]
    }
   ],
   "source": [
    "response.summary\n",
    "# Show unanswered packets\n",
    "ls(unans[0])"
   ]
  },
  {
   "cell_type": "markdown",
   "metadata": {},
   "source": [
    "##### Three-way handshake"
   ]
  },
  {
   "cell_type": "code",
   "execution_count": null,
   "metadata": {},
   "outputs": [],
   "source": [
    "#Firewall interferes with this because its crafted packet, not connection.\n",
    "dport=80\n",
    "ip = IP(dst='www.pyptug.org')\n",
    "syn = TCP(dport=dport,flags='S')\n",
    "synack = sr1(ip/syn, timeout=10)\n",
    "ackseq = synack.seq + 1\n",
    "ack = TCP(dport=dport, flags='A',seq=synack.seq,ack=ackseq)\n",
    "reply = sr1(ip/ack)\n",
    "\n"
   ]
  },
  {
   "cell_type": "code",
   "execution_count": 164,
   "metadata": {},
   "outputs": [
    {
     "name": "stdout",
     "output_type": "stream",
     "text": [
      "Begin emission:\n",
      "Finished sending 1 packets.\n",
      "\n",
      "Received 1 packets, got 1 answers, remaining 0 packets\n"
     ]
    },
    {
     "data": {
      "text/plain": [
       "<Raw  load='I am.\\n' |>"
      ]
     },
     "execution_count": 164,
     "metadata": {},
     "output_type": "execute_result"
    }
   ],
   "source": [
    "# You can also let python socket handle three way handshake.\n",
    "# Demo by running nc -l 2222\n",
    "import socket\n",
    "s = socket.socket()\n",
    "s.connect(('127.0.0.1', 2222))\n",
    "ss = StreamSocket(s, Raw)\n",
    "ans=ss.sr1(Raw(\"Hello, who is there?\\n\"))\n",
    "\n",
    "ans[0]"
   ]
  },
  {
   "cell_type": "markdown",
   "metadata": {},
   "source": [
    "#### Fuzzing"
   ]
  },
  {
   "cell_type": "code",
   "execution_count": null,
   "metadata": {},
   "outputs": [],
   "source": [
    "#We can pair python socket with the scapy fuzz function to send netcat random data.\n",
    "fsocket = socket.socket()\n",
    "fsocket.connect(('localhost', 2222))\n",
    "fstream = StreamSocket(fsocket)\n",
    "fuzzpacket = fuzz(Raw())\n",
    "\n",
    "for i in range(1,4):\n",
    "  fstream.send('Fuzz packet ' + str(i) + '\\n' )\n",
    "  fstream.send(fuzzpacket)\n",
    "  fstream.send('\\n')\n",
    "\n",
    "fsocket.close()"
   ]
  },
  {
   "cell_type": "code",
   "execution_count": 207,
   "metadata": {},
   "outputs": [
    {
     "name": "stdout",
     "output_type": "stream",
     "text": [
      "\n",
      "Sent 5 packets.\n"
     ]
    },
    {
     "data": {
      "text/plain": [
       "[<IP  frag=0 ttl=1 proto=icmp dst=10.10.10.10 |<ICMP  |<Raw  load='2\\xfcm\\xd1u%q\\xeb|\\xd3B\\x8c\\xf1\\xa0\\xc8\\xf6\\x1e\\xcf\\x010\\x8d\\x12v7k\\x9b\\xaaM.\\xed.\\x19\\x1b\\xb79\\xd2/\\xa8D\\xef\\xebK\\t\\x16\\xf1\\xa2\\xf9A\\xeem\\xf2\\x07&va\\xf3\\xe6\\xe0\\x1a\\xad\\xdf\\x11\\x92]F%\\xe1\\xb2t\\xa1vk\\xec\\x17h\\xb8\\xe3\\x19t\\xd4\\x01!U\\xd3$!\\xb7\\x04J\\xad\\x1bG\\x12\\x8a\\x9fUC[\\xc8i\\xc9O\\x80\\xed\\xa1\\'+\\xf9\\x98\\xd2A\\xc9*;\\x92\\x18\\xd0\\xefQ\\xa8\\xb4\\xe2\\xb7\\x03\\x16\\x03\\xd4;<\\x15\\xab%\\xc1\\xd9\\xdenv\\x0bq\\xf1 \\x0e\\x04\\x05\\xbd\\xc0\\x91j\\x16\\xb9\\x8f\\x17\\xe9^Q\\xae\\x0f\\xe4\\r\\xd0\\rYK\\xf7\\x9f\\xf2\\r\\xb2m\\xf2\\xa3\\xe9\\x05G\\xb6\\x00\\xb9\\xc8l\\xeb\\xc9\\xa5\\xa3q\\x9c\\xf1e\\xa8u\\xc5\\x06\\xdb\\xf5\\xb5\\xdc\\xb6\"rv3D\\'ivYt\\xe3\\xb5\\xca\\x9d\\xd6\\x83 h\\xdd\\xaf\\xfd\\xfe\\x96\\x1b\\x8es;\\xbf~\\x9c\\xa06\\xa6^\\xcf\\x80VT\\xa4+)MQ\\x9e\\xbfHz\\xf8\\xf4\\x1e\\xf02\\xf54!\\xb4\\xb4\\xd5\\x91\\n\\xb7\\xaa\\xa0\\x1dm\\x9b\\xcfN\\xe2\\xfd\\xab\\x97\\xd7\\xc1u\\xad2\\'\\xdc+\\x8c-\\x98\\xae\\x12\\xcf\\xcf\\xd8\\xc0\\xc8R2E\\x19w\\x82u\\xb8\\x07\\xa2g/\\x90\\x16\\xb3\\x1e\\x16\\xe7\\xcd\\'\\xa4\\x0f\\xa3g% \\xa3\\xc2\\xe4\\xf0{ \\xb4\\xaf\\xb73\\x81\\xe4f\\x07\\xdc_-\\xa9H\\xc2\\xa3\\xda\\x11\\xc4\\xddK\\x84\\xfe\\x9e]\\xf3(\\xa32_\\x04\\xc8\\'\\xb6\\xd4\\xf6\\x9c\\x98\\xf0\\xd2C\\xe7\\x8fF6(v\\xcb\\xdeL\\xc8r\\xd2\\xe5.\\xf0<\\xe6H\\x04\\xb8\\x8b\\xe2\\xa9\\x831\\x98\\xdaCGn<3\\x99N \\xbcSv\\x05\\x07\\xda \\x86\\xaa\\x98\\xddK\\x08?\\xdc\\x93\\xb5\\xc6\\xf2\\r\\x1e\\x05\\xd4g\\xf7g\\xd60\\xb5E\\xb1\\xfc\\r\\x7f\\xf4\\xe4f-JD?\\x8f\\xa5\\xb3rrQ\\x0e\\xb7\\x1a\\x87\\x8b\\x87\\x1df\\x9c\\x8b\\xa4\\xb3\\x97\\xf4\\x9a\\x1fUn qz\\x19Q\\x93fj\\xb0\\xbe^\\xefW\\xcf\\x7f\\xa1\\xb8\\x18O\\xe1\\x9cK\\x15Y\\x05\\xa5\\xc2\\xd5\\x14\\x83<\\x1d\\x96\\x1b\\xae\\xb2\\x1b@\\x15q\\xddg\\x1b\\xbd\\xdf4\\xa1\\xd8sz|qB\\x02<V\\xcaO\\x9f\\xf8+\\xbc\\xd4\\xcaHv\\xaa\\x8c|^\\xffI\\xd5K\\xa3#.\\xae\\xc2\\x03.;7\\x0c\\x98\\n\\xe4\\x11g\\xb7\\x1a\\xa6Ax\\xb135\\t\\xa4J\\xc3>\\x84F^\\x1d_\\x16u\\xe2\\xc5\\x1e\\xd0\\xedJ\\x97\\x1f\\x89\\x9a\\xf5\\x9dD\\xa5\\xd0\\x13\\xe3O\\xc6l\\xa7\\xe0f\\x9f[3\\xfa!\\xbe\\xfd\\xbb\\xc4\\xfa\\x10\\xbb\\x9dz\\x81\\x1a\\xb1R$\\x07\\x94=\\x1bd\\x84\\x86\\x08\\xb9b\\xa6\\x9ft\"d}w\\xcf5\\xa6\\x89\\x862\\x83\\xf2\\xee-N\\xbez6\\xe75\\x89s\\xceq6\\xe4\\xfb\\xe7\\xcd@\\n6&o\\xbe\\xa5\\xf1\\xeb\\x19%)\\x8e\\x14\\r\\x871\\x0c.@W\\xcb$\\xbc\\xecO\\x04\\xb6\\xd7!\\xb4\\xcd_\\xb7\\xc0\\x8c\\x9f\\t\\xa9\\x881\\x15\\x07?\\xfaq\\x1f\\x00\\xc16\\x82\\x96/\\x8d\\xfa\\xf1)*\\xb6\\xa8\\x10v\\x8dcU\\x9e%\\xfe\\x8d\\x11\\xf9\\x9c\\xdf\\xf6\\xe4\\x90\\x8e=\\x9c\\x94\\xef-\\x16\\x81Il\\xf3g\\x8f(\\x10L\\x8d\"\\xec`\\x17' |>>>,\n",
       " <IP  frag=0 ttl=2 proto=icmp dst=10.10.10.10 |<ICMP  |<Raw  load='\\x1e\\xf0\\xaa!\\xbcf\\xbbA\\xc7\\x1e\\x1e\\xfd$\\xa3\\x9b\\x1e\\xd5\\xe1#\\\\\\x14\\xb5]j\\xd2\\xfd\\rtz!\\xdf\\x88\\xaasR6\\xf8\\xe4\\x83\\xdd:\\xa2\\xde\\xb0VT\\xf9q\\xc1cOU\\xdb\\xc0\\xeey([\\x93\\xacdI^p\"\\x11\\xc6o\\x13}\\x00\\xf1\\xd4M\\x8b\\x03\\xc6\\x8f\\x97\\xe0\\xd8P\\x14\\xae%\\xd8\\xf0G\\xb0[\\xf1\\xd8\\xbe\\x17\\x98\\x9c\\xefN\\xa6\\x81{\\x97\\x1b\\x10\\x18\\xdd\\xa0\\x97\\xb26Ol[\\xa8/\\xed\\r\\x15\\x18B\\x8c\\xeb\\t\\xc1\\xca\\xe6\\x12Z\\xb9\\r\\xf2\\x9f\\x99\\xfcv\\x11\\xbf\\x1f^\\xcf\\x03\\x9b\\xbc\\x11a\\xff$\\x19\\xc5`\\xa2\\xd70\\x89\\xc6\\xda\\xe7m\\x1a\\x17?\\x84\\xef\\xb45\\xe7\\xf7\\x88\\x06\\x8d%\\xd5\\x1dc\\xb0\\x92\\xba%\\xb0\\x86?f\\xa0\\xe9\\xac\\x02\\xad\\x8eq\\xc1\\xedD\\x80\\x19\\xa0\\xe7\\xa8\\x95x\\x13\\xfe\\xb6\\xb3\\x9e\\xb4\\xba\\xc9\\xbf[>h\\x97  \\xd0M\\'\\x17\\xd9V\\xb0[ge\\xc3\\xf1\\xa7BnO\\x0e\\xb6\\x17v;\\xff\\xd2\\x87iD\\xf0\\xfc\\x86P\\xedt\\xc0:\\x00\\xb3\\x0bo\\xfcZ\\x97hl|\\xe0_*.D9<\\xb2~\\xf7V\\n2\\xf3\\xa9\\xf4\\xb5\\xadi\\x19\\x9b\\x05\\x82\\xf1(R\\xfcFt\\x98\\xc6\\xd8\\xc21\\xb1\\xd0\\xb7\\xc9\\xd3\\xbc\\x07\\xc6\\xd4\\xc3\\xeeR\\xdc\\xf3\\xb9\\xa2\\x95\\xc1L\\x88M+o.\\xb9\\x1e\\xc8\\xa89\\x100\\xe2\\x87G\\x7fwe\\xef9\\x0em\\xf4p]\\xc3\\xb3*\\x93~k\\xd5\\xd2\\xa9\\x86\\xf9\\n<.\\x9b>\\t8e\\x10\\x87\\x80&\\x13\\xc2j\\x8b^# $\\x08\\xb9\\xdb\\x1by9\\x8b\\xe1F\\x88,\\xfb\\xd3\\xd3\\xbd\\x1f\\xad#p\\x91\\x1e\\xc0&:\\xeeA\\x86\\xa2S\\x82\\xfe1\\x13`\\xc6\\xe3\\x16\\xd7C\\x95=\\xf4\\xe9\\xf4\\xb0Q\\xb1:c\\xe3\\xf6?\\x16\\xc3\\x009(k\\xd4\\x03H\\x1az\\x14\\xff\\x1a\\x04%0\\r\\x99\\xc7xQ[\\xa6\\xc6\\xe3\\x82\\xb3\\'k\\xaf\\xcd]\\x00\\xf3\\xebJ\\xb1\\xf8\\xb6Q\\xca\\xad\\x01l\\xbb\\x88\\xd6\\x82Y\\xb2*oi\\x88\\xdeW\\x0f\\xdf\\xfd\\'\\x19o\\xf2\\xfb\\xf36\\x87\\x82\\xd3&T\\x92\\x84tmj\\xa4\\x14\\xd1\\x19\\x19\\xb7\\xf4~x\\xe5\\xa9>\\xc8M\\xf7\\xd2|py_kW\\x138\\xcb\\xde;b\\x1b\\xfb\\x1dE\\xbc\\xa14U\\xde\\xd4h`\\x01\\xe6\\x89\\xa8\\xfb\\x1e\\x93\\xdd|(\\xa9#\\xb3\\x8a\\xb1\\xc7-\\xde\\x16\\xa9\\x0cBN\\xce~\\xbb:K\\x07\\xae\\xbc\\x80YO\\x0c\\xab\\x17v\\x0b\\x9c\\x98\\x96\\xea\\xe0;v!\\xc2\\xcb#+sK9\\xd2z\\x93\\xc1\\xa8\\x1bOMS\\xc8z\\xbc\\xca]M6\\xca\\x10\\x84\\xaeg\\x04\\x1f\\x86M\\x92\\xe0\\x86b\\x1e\\x1at\\t<<\\xd4-\\xa4\\xf5\\xa5&\\x1e{Tj\\x92_\\x9fi\\x93_\"!\\xa9\\x12\\x07\\x92\\x18\\xd8x\\x8bv\\x17\\xbeM\\x85\\xa6\\xad\\xb1\\x12!&~\\x0cL\\xb8\\x02m\\xa2\\xeaF\\xb6\\x8a%N\\x81u\\x7f\\xfe\\xb5.\\x98\\x9f\\xd0\\xb6\\x14P}\\xc1\\xcb\\x99\\x97\\x9f\"\\x18\\xc9\\x06I' |>>>,\n",
       " <IP  frag=0 ttl=3 proto=icmp dst=10.10.10.10 |<ICMP  |<Raw  load='\\tH\\xbd\\x16S\\x8a\\x8d1\\x8e\\x83\\x896\\\\\\x80Q\\xb0\\x94\\x13b\\xc2\\xf5@s\\xe9m\\xc87\\xaa\\xb4F\\xee>$\\x8d\\x04*\\x97\\x1d\\xe3\\x92\\xa6+\\x96\\x000g\\x15\\x13l\\xaa\\xa2S\\xdd>\\xbeH\\x91\\xc3\\x02\\x04\\xecV\\xf4\\xe4\\x9e\\'l\\xf3y\\xa6T\\x86A-\\xaa\\xa45]\\xbf\\xaet\\x9f\\x87h+\\x18*1\\xd5\\xa1f\\xd4\\r\\x10\\xffL\\x96\\x89K\\x9c\\x98\\xd2\\xdb\\x96\\x8a\\x97\\x8c\\xe7\\xa78\\xe7\\xe7\\xe66\\xd23\\x91\\xfa\\x05\\x90\\xddvc\\xcf\\xe3\\xe6fa\\xecH:Ns\\xc4;\\xcc<\\x86\\x0c\\xb1\\xa5M\\x97\\x9a(\\xee\\xc3ej8\\xbc\\xc1+`\\xbb\\xd6E\\x0c<2\\xa2gM\\x8fW\\xa6,\\xc7\\xc69\\xf1_\\xebO\\x0c\\xddi\\xfc\\x87%\\xc7}^\\xca\\x1a\\xd9\\x8e\"\\xde\\xe5\\xca\\xea\\xf7\\xb3\\xf2\\xe4\\x9c\\\\\\x98\\x10\\'\\x9f\\x8a' |>>>,\n",
       " <IP  frag=0 ttl=4 proto=icmp dst=10.10.10.10 |<ICMP  |<Raw  load='\\x8d\\xb5\\x92\\x03\\xc6\\n\\x0f\\x8f:\\x19\\x1a\\xed{\\xef\\x95)\\x12:-\\xe5\\xd6E\\xf6m\\x83\\x84\\xbe\\x89\\x89\\r\\x1dB4\\x86\\tO*\\xd1\\xfa\\xb9\\x1d3\\x82\\xaf\\xa1U\\xb04\\x845\\xf9\\xf0 \\xc2\\x0bo2\\x9e\\xe0\\xb1\\x12y\\xe7n\\xeb\\\\\\xc4f\\xcf&\\x8d,\\x91D5zs\\x8c)aH\\x92-\\xeeF1\\xd0\\xd54\\xf9v\\x96\\x1c\\x05\\xa6\\xef\\xdcv-\\xd4N\\xae\\\\w\\xb1\\x1fs\\x9c\"_\\xec\\xcd\\xa8\\xdc}\\xd6\\xb1\\xf9OFy7\\xdd\\xad\\xb9\\xe3\\x90\\x98\\x0f\\x87\\xfa\\xa7\\xb6\\xd8\\xae\\xdb\\x0f\\xd8\\xc0\\xa1\\\\Y\\xff\\xf6a\\xc9\\xec\\x1f\\x00\\x19\\x1e_H~\\xd3\"\\x19\\xac\\xce\\x14\\x81\\x10\\x1eeVL\\xf3\\xad<\\x87>b\\xf8GXIA\\xd2\\xf2u\\x93d\\xa7\\xcc\\xf1\\xbe\\xd9~\\xce5\\xee\\xfa(\\xc9j\\xa36\\xcaSCY=\\x9a\\x0e!\\x92\\x98L\\xae\\xd1\\xd6\\xa7\\xcf{\\x98)$\\xb2\\xa8\\xdfd\\xafH\\xcc\\xe8\\x0e\\xab\\x05Z\\\\b\\x15\\xfc\\x96\\x9e,O\\xcf\\xf5\\x8e\\xf0\\xdf\"\\x83\\xf2\\x00\\xdf?\\x86\\x80\\xed\\x1f\\xb3l\\xd6\\xe27#N,\\xf3\\x88\\t@\\xe26\\xb1\\xad\\x86\\x0f$I\\x9c\\xfc\\x17g\"f\\xb6P\\xe2\\xd4\\xf8\\xfa\\xf4\\x07k\\xc5\\xa4\\xaf\\xe7\\xc2Kqy\\xfc\\xc8\\x94>\\x88<\\t\\xd4F\\rAdi\\xdf\\xfd\\xf93\\xc23\\xc3\\xdf\\xd0`=\\xe8j\\x19X\\xeb\\x84,\\xaeF\\x9d\\x93(\\x10\\xd2?\\xd3\\x8c!\\x81\\x04\\xc1\\xabx\\x08\\x9a6\\xdaz\\x05\\x93}\\'\\xb2\\xf8\\x02\\xeav\\xb3i:\\rb\\xaa\\xbb\\x05\\xb6\\x89\\x97\\x8e\\x7f\\xe8\\x03w\\xb0\\xa4\\xa3A-SO \\xec\\xb9\\xeb^\\x9ez\\\\\\xd8\\x1e\\xef\\xc3\\x1e\\x00\\x84\\xea\\x8a\\x92\\xc7\\x8fh\\xe2\\xc6\\xe8\\xeb\\x00C!\\x90\\xf1\\x90\\xc1Ny\\xd6k\\xaf\\xc7\\x8b\\x07\\xeep\\xc2^\\xa8)\\xb2\\x11\\xc7A \\x7f\\xdd\\xcd\\x93\\xae6D\\x98\\x16Q\\xfa\\xef\\xe4\\xbb^\\xa6\\x01;R%\\xaa\\xc0(B\\xac\\xd4\\x1e\\x7f\\xc8\\x80%\\xb4\\xaeX\\x01\\x1f\\x95[\\t\\xc2\\xb9l/9AB3_a\\x16\\xaeu\\xac\\x9b\\xb2Op\\x17\\xb9duSK\\x85p#\\xbeE\\x88z\\xd2G\\xb5\\xbd\\xbaL\\x94nL#oI\\xfe\\xfe\\x96\\\\\\x05\\xa8\\xd2*ZC,e=\"D\\x00(\\x84\\xb3\\x1d\\xd5\\x17~\\x0b\\xd1\\xd0\\xd72 \\xe0\\r2\\x97\\xff\\xa3S\\x94\\xe1\\xb3+\\xb2n}\\x0b\\xfb\\xc7\\xc6\\xc4\\xc1@\\xc1A<\\x9a\\x8f\\x11/\\x85Y\\xf9\\xd1\\x8f\\xeb6\\xf7$\\'D\\xde\\x08D\\xaf9g>DL\\x02\\xac7\\x08\\x93\\xe4s\\xdd\\xe2\\xe7 \\x10w\\xa0\\x9e\\xa3\\x1d\\x84\\x84\\xd7\\xae\\xf3\\x88<R3gW\\xd1\\xafW\\xbf\\xb1p\\xb68\\xb4\\x94\\xb2w\\x05\\x8cT\\x93\\xe2a\\x17t\\xb2!\\xf10\\xabI\\x16\\xed\\xc5\\x9eU)\\x1d^s\\xce\\xefgq_\\xa5r\\xfc\\x9enLD1\\xbe\\x90u\\x98\\x90\\x17\\xe9-\\x87\\xd3Z\\xf0\\xd8\\xfd\\xa5@a\\xe0$]\\xcc\\x0f\\x1c\\xb4\\x81\\xdft\\x9b\\xe2\\xcb\\xda\\x96\\x11kq\\x19[\\xa7\\x9b\\xd3=\\x1a\\xdb\\xb3$\\xc2\\x00R\\xecd\\x1e\\x10^\\xee\\xa9\\x85g\\x9a\\x03\\xbb5zp/\\x8b\\xa7\\x85\\xe4\\xb6\\xa5\\xa7\\xd2\\xac\\xd9\\x10JV\\xf5T\\n\\x15\\xfb\\xb8\\x07}\\x91 \\xbb\\xbf3p\\xbd\\xf8\\xfcuScm\\x06\\x04\\xf0A;7&}\\x03\\xf7\\xf8\\xc3\\xd4\\xdc\\x90\\x0f\\xe8\\xcf\\xdd\\xbfD\\xa5P\\x8b\\xa1\\x8c\\x18Mw\\x9a\\x1c!A\\x1b\\xb1\\xf6Z\\x84\\xcf\\x916\\xe1#>\\xacWX\\x01f\\xd8\\x80\\xc9RZ^\\xd9\\xbblx\\x87\\xcer\\xa3\\x893\\xbd\\xd2\"\\x9d\\xb3+\\x03\\xd3\\x18a\\x8e2a\\x00\\xe9}\\xa3 a\\x15\\xacT\\x82p\\xe8\\xaa\\xc2\\xefD|\\xb9P\\x80_\\x1f\\x1fG\\x06f\\xdc\\xc5m\\xdd|j5\\t\\xe6\\x8b\\xf2\\xd8\\x8e\\x8f\\xcc\\xad\\xd8XW\\x8fN0\\x19\\xd8\\xb3\\xa0\\xdd\\xb5d=\\xa9\\xa1\\xe2\\x121*\\x03UO0\\xf5$#iIf\\xd5\\xf6^\\xe2X\\xea\\xdf\\xbc\\xdeyk\\xac\\xe9\\x9f\\x94\\xda\\xe3\\x1b\\xb72\\xd6\\xa8G\\x9c\\xf8\\xa4A\\x98\\x1c\\xdb\\x19:\\xbd\\x16E%\\xdc\\xf2\\xcd$\\xc0fE/\\r\\x0c\\xa7\\xf9%\\x86\\xd3~ \\xb4\\x1c\\xbc@(p\\x121\\x8fzB\\x0emH\\x0f\\x81Q' |>>>,\n",
       " <IP  frag=0 ttl=5 proto=icmp dst=10.10.10.10 |<ICMP  |<Raw  load='k\\x08\\xb5\\xa4\\xe3\\x1c\\xc2\\x8d:\\xc1\\xd9i\\xc1\\x14#{\\xff\\xe4\\xe6\\xd6\\x13\\xedP%\\xb4\\xbc$\\x17gLY\\xaa\\xb7\\r\\xa0S\\t\\x80\\xcf\\x12.G~_\\x8e\\x9eBU\\xb7_\\x19rl\\x93FQ4\\xb7\\xa6\\x9dS\\x8e\\n3Yx\\xb2\\x89\\x93A\\x11\\xbe\\x1e\\x9ay\\x1b\\xb2\\xec\\xe0\\xc1\\x9c\\n\\x9fP\\x9aW\\x14\\x84\\x94\\xc8\\xe65\\xef\\xa9b?\\xfb|\\x03\\xd1\\xd8\\xd5f\\xa8\\x0f`\\x8dyAu\\xb5\\x8a\\xb7?89nA\\xc0\\x81\\x1a#\\x12J\\xfa]\\x97n;\\xd0\\x03V6o\\xbd\\x99K\\xcc\\xddN\\xcc2n\\xa8o\\x18\\n=\\xae\\xfa\\x1c\\x07c\\x94\\xf2\\xf2\\x1cm\\rIH\\xbe\\xc0' |>>>]"
      ]
     },
     "execution_count": 207,
     "metadata": {},
     "output_type": "execute_result"
    }
   ],
   "source": [
    "# Generating a set of packets containing fuzz data\n",
    "fuzzpackets = [p for p in IP(dst='10.10.10.10', ttl=(1,5))/ICMP()/fuzz(Raw())]\n",
    "\n",
    "#sending the packets\n",
    "send(fuzzpackets)\n",
    "\n",
    "#view contents\n",
    "fuzzpackets\n"
   ]
  },
  {
   "cell_type": "markdown",
   "metadata": {},
   "source": [
    "#### Other uses"
   ]
  },
  {
   "cell_type": "code",
   "execution_count": null,
   "metadata": {},
   "outputs": [],
   "source": [
    "#Detect a rogue DHCP server.\n",
    "conf.checkIPaddr = False\n",
    "fam,hw = get_if_raw_hwaddr(conf.iface)\n",
    "dhcp_discover = Ether(dst=\"ff:ff:ff:ff:ff:ff\")/IP(src=\"0.0.0.0\",dst=\"255.255.255.255\")/UDP(sport=68,dport=67)/BOOTP(chaddr=hw)/DHCP(options=[(\"message-type\",\"discover\"),\"end\"])\n",
    "ans, unans = srp(dhcp_discover, multi=True, timeout=10)\n",
    "ans.summary()"
   ]
  },
  {
   "cell_type": "markdown",
   "metadata": {},
   "source": [
    "#### Working at Layer 2"
   ]
  },
  {
   "cell_type": "code",
   "execution_count": 148,
   "metadata": {},
   "outputs": [
    {
     "name": "stdout",
     "output_type": "stream",
     "text": [
      "Help on function srp in module scapy.sendrecv:\n",
      "\n",
      "srp(x, promisc=None, iface=None, iface_hint=None, filter=None, nofilter=0, type=3, *args, **kargs)\n",
      "    Send and receive packets at layer 2\n",
      "    nofilter: put 1 to avoid use of BPF filters\n",
      "    retry:    if positive, how many times to resend unanswered packets\n",
      "              if negative, how many times to retry when no more packets are answered\n",
      "    timeout:  how much time to wait after the last packet has been sent\n",
      "    verbose:  set verbosity level\n",
      "    multi:    whether to accept multiple answers for the same stimulus\n",
      "    filter:   provide a BPF filter\n",
      "    iface:    work only on the given interface\n",
      "\n"
     ]
    }
   ],
   "source": [
    "#Sends layer2 packets (Ether, Dot11 aka 802.11, Dot3 aka 802.3, STP,  etc)\n",
    "help(srp)"
   ]
  },
  {
   "cell_type": "markdown",
   "metadata": {},
   "source": [
    "#### Sniffing packets"
   ]
  },
  {
   "cell_type": "code",
   "execution_count": 155,
   "metadata": {
    "scrolled": true
   },
   "outputs": [
    {
     "name": "stdout",
     "output_type": "stream",
     "text": [
      "Ether / IPv6 / TCP ::1:ddi_tcp_1 > ::1:48602 PA / Raw\n",
      "Ether / IPv6 / TCP ::1:ddi_tcp_1 > ::1:48602 PA / Raw\n",
      "Ether / IPv6 / TCP ::1:48602 > ::1:ddi_tcp_1 A\n",
      "Ether / IPv6 / TCP ::1:48602 > ::1:ddi_tcp_1 A\n",
      "Ether / IP / TCP 127.0.0.1:telnet > 127.0.0.1:34586 A\n",
      "Ether / IP / TCP 127.0.0.1:telnet > 127.0.0.1:34586 A\n",
      "Ether / IP / TCP 127.0.0.1:34586 > 127.0.0.1:telnet A\n",
      "Ether / IP / TCP 127.0.0.1:34586 > 127.0.0.1:telnet A\n",
      "Ether / IP / TCP 104.16.60.37:https > 192.168.1.173:34928 PA / Raw\n",
      "Ether / IP / TCP 192.168.1.173:34928 > 104.16.60.37:https A\n"
     ]
    },
    {
     "data": {
      "text/plain": [
       "<Ether  dst=00:00:00:00:00:00 src=00:00:00:00:00:00 type=0x800 |<IP  version=4 ihl=5 tos=0x0 len=52 id=29147 flags=DF frag=0 ttl=64 proto=tcp chksum=0xcae6 src=127.0.0.1 dst=127.0.0.1 options=[] |<TCP  sport=telnet dport=34586 seq=3905115111 ack=1101134923 dataofs=8 reserved=0 flags=A window=375 chksum=0xfe28 urgptr=0 options=[('NOP', None), ('NOP', None), ('Timestamp', (1423663052, 1423660044))] |>>>"
      ]
     },
     "execution_count": 155,
     "metadata": {},
     "output_type": "execute_result"
    }
   ],
   "source": [
    "#Sniff runs and calls a lambda function for each packet, in this case displaying a summary.\n",
    "pr=sniff(count=10, prn=lambda p: p.summary())\n",
    "pr[5]"
   ]
  },
  {
   "cell_type": "markdown",
   "metadata": {},
   "source": [
    "#### Writing to Pcap file"
   ]
  },
  {
   "cell_type": "code",
   "execution_count": 209,
   "metadata": {},
   "outputs": [
    {
     "name": "stdout",
     "output_type": "stream",
     "text": [
      "Help on function wrpcap in module scapy.utils:\n",
      "\n",
      "wrpcap(filename, pkt, *args, **kargs)\n",
      "    Write a list of packets to a pcap file\n",
      "    \n",
      "    filename: the name of the file to write packets to, or an open,\n",
      "              writable file-like object. The file descriptor will be\n",
      "              closed at the end of the call, so do not use an object you\n",
      "              do not want to close (e.g., running wrpcap(sys.stdout, [])\n",
      "              in interactive mode will crash Scapy).\n",
      "    gz: set to 1 to save a gzipped capture\n",
      "    linktype: force linktype value\n",
      "    endianness: \"<\" or \">\", force endianness\n",
      "    sync: do not bufferize writes to the capture file\n",
      "\n"
     ]
    }
   ],
   "source": [
    "help(wrpcap)"
   ]
  },
  {
   "cell_type": "code",
   "execution_count": 215,
   "metadata": {},
   "outputs": [],
   "source": [
    "#Write captured packets from sniff to pcap file\n",
    "wrpcap('/tmp/p.cap', pr)"
   ]
  },
  {
   "cell_type": "markdown",
   "metadata": {},
   "source": [
    "#### Reading from Pcap file"
   ]
  },
  {
   "cell_type": "code",
   "execution_count": 217,
   "metadata": {},
   "outputs": [
    {
     "name": "stdout",
     "output_type": "stream",
     "text": [
      "Help on function rdpcap in module scapy.utils:\n",
      "\n",
      "rdpcap(filename, count=-1)\n",
      "    Read a pcap or pcapng file and return a packet list\n",
      "    \n",
      "    count: read only <count> packets\n",
      "\n"
     ]
    }
   ],
   "source": [
    "help(rdpcap)"
   ]
  },
  {
   "cell_type": "code",
   "execution_count": 219,
   "metadata": {},
   "outputs": [
    {
     "data": {
      "text/plain": [
       "<p.cap: TCP:3 UDP:0 ICMP:0 Other:0>"
      ]
     },
     "execution_count": 219,
     "metadata": {},
     "output_type": "execute_result"
    }
   ],
   "source": [
    "#Read three packet from the pcap file and display the summary\n",
    "pcap_packets=rdpcap(\"/tmp/p.cap\", 3)\n",
    "pcap_packets"
   ]
  },
  {
   "cell_type": "code",
   "execution_count": 232,
   "metadata": {},
   "outputs": [
    {
     "name": "stdout",
     "output_type": "stream",
     "text": [
      "###[ Ethernet ]### \n",
      "  dst       = 00:00:00:00:00:00\n",
      "  src       = 00:00:00:00:00:00\n",
      "  type      = IPv6\n",
      "###[ IPv6 ]### \n",
      "     version   = 6\n",
      "     tc        = 0\n",
      "     fl        = 580115\n",
      "     plen      = 32\n",
      "     nh        = TCP\n",
      "     hlim      = 64\n",
      "     src       = ::1\n",
      "     dst       = ::1\n",
      "###[ TCP ]### \n",
      "        sport     = 48602\n",
      "        dport     = ddi_tcp_2\n",
      "        seq       = 2190337113\n",
      "        ack       = 3314255734\n",
      "        dataofs   = 8\n",
      "        reserved  = 0\n",
      "        flags     = A\n",
      "        window    = 14318\n",
      "        chksum    = 0x28\n",
      "        urgptr    = 0\n",
      "        options   = [('NOP', None), ('NOP', None), ('Timestamp', (2868732681, 2868732681))]\n",
      "\n",
      "\n",
      "New packet dport: 8889\n",
      "\n",
      "\n",
      "dst        : DestMACField                        = '00:00:00:00:00:00' (None)\n",
      "src        : SourceMACField                      = '00:00:00:00:00:00' (None)\n",
      "type       : XShortEnumField                     = 34525           (36864)\n",
      "--\n",
      "version    : BitField (4 bits)                   = 6               (6)\n",
      "tc         : BitField (8 bits)                   = 0               (0)\n",
      "fl         : BitField (20 bits)                  = 580115          (0)\n",
      "plen       : ShortField                          = 32              (None)\n",
      "nh         : ByteEnumField                       = 6               (59)\n",
      "hlim       : ByteField                           = 64              (64)\n",
      "src        : SourceIP6Field                      = '::1'           (None)\n",
      "dst        : DestIP6Field                        = '::1'           (None)\n",
      "--\n",
      "sport      : ShortEnumField                      = 48602           (20)\n",
      "dport      : ShortEnumField                      = 8889            (80)\n",
      "seq        : IntField                            = 2190337113      (0)\n",
      "ack        : IntField                            = 3314255734      (0)\n",
      "dataofs    : BitField (4 bits)                   = 8               (None)\n",
      "reserved   : BitField (3 bits)                   = 0               (0)\n",
      "flags      : FlagsField (9 bits)                 = <Flag 16 (A)>   (<Flag 2 (S)>)\n",
      "window     : ShortField                          = 14318           (8192)\n",
      "chksum     : XShortField                         = 40              (None)\n",
      "urgptr     : ShortField                          = 0               (0)\n",
      "options    : TCPOptionsField                     = [('NOP', None), ('NOP', None), ('Timestamp', (2868732681, 2868732681))] ([])\n"
     ]
    }
   ],
   "source": [
    "#Manipulate one of the packets \n",
    "pcap_packets[2].show()\n",
    "new_packet=pcap_packets[2]\n",
    "new_packet.dport = 8889\n",
    "print(\"\\nNew packet dport: \" + str(new_packet.dport) + \"\\n\\n\")\n",
    "\n",
    "ls(new_packet)"
   ]
  },
  {
   "cell_type": "markdown",
   "metadata": {},
   "source": [
    "#### Viewing in Wireshark"
   ]
  },
  {
   "cell_type": "code",
   "execution_count": 208,
   "metadata": {},
   "outputs": [],
   "source": [
    "wireshark(pr)"
   ]
  }
 ],
 "metadata": {
  "kernelspec": {
   "display_name": "Python 3",
   "language": "python",
   "name": "python3"
  },
  "language_info": {
   "codemirror_mode": {
    "name": "ipython",
    "version": 3
   },
   "file_extension": ".py",
   "mimetype": "text/x-python",
   "name": "python",
   "nbconvert_exporter": "python",
   "pygments_lexer": "ipython3",
   "version": "3.6.6"
  },
  "widgets": {
   "application/vnd.jupyter.widget-state+json": {
    "state": {},
    "version_major": 1,
    "version_minor": 0
   }
  }
 },
 "nbformat": 4,
 "nbformat_minor": 2
}
